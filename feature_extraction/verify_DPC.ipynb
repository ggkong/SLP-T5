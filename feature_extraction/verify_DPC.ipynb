{
 "cells": [
  {
   "cell_type": "code",
   "execution_count": 1,
   "outputs": [],
   "source": [
    "import numpy as np\n",
    "\n",
    "from feature_extraction.FileTools import readfasta\n",
    "\n",
    "index_list, seq_list = readfasta(\"/home/kongge/projects/new_protT5/data/MSchlo578.fasta\")"
   ],
   "metadata": {
    "collapsed": false
   }
  },
  {
   "cell_type": "code",
   "execution_count": 18,
   "outputs": [],
   "source": [
    "def DPC(sequences):\n",
    "    AA = 'ACDEFGHIKLMNPQRSTVWY'\n",
    "    encodings = []\n",
    "\n",
    "    DiPeptides = [aa1 + aa2 for aa1 in AA for aa2 in AA]\n",
    "\n",
    "    AADict = dict()\n",
    "    for i in range(len(AA)):\n",
    "        AADict[AA[i]] = i\n",
    "\n",
    "    for sequence in sequences:\n",
    "        code = [0] * 400\n",
    "        sequence = sequence.replace(\"X\", \"\")\n",
    "        for i in range(len(sequence) - 1):\n",
    "\n",
    "            code[AADict[sequence[i]] * 20 + AADict[sequence[i+1]]] = code[AADict[sequence[i]] * 20 + AADict[sequence[i+1]]] + 1\n",
    "        if sum(code) != 0:\n",
    "            code = [i / len(sequence) for i in code]\n",
    "        encodings.append(code)\n",
    "    return encodings"
   ],
   "metadata": {
    "collapsed": false
   }
  },
  {
   "cell_type": "code",
   "execution_count": 19,
   "outputs": [],
   "source": [
    "from ProtT5 import readH5File"
   ],
   "metadata": {
    "collapsed": false
   }
  },
  {
   "cell_type": "code",
   "execution_count": 20,
   "outputs": [],
   "source": [
    "# 训练集\n",
    "feature_1, label_list1 = readH5File(\"/home/kongge/projects/new_protT5/data/ProtT5/output1.h5\")\n",
    "feature_2, label_list2 = readH5File(\"/home/kongge/projects/new_protT5/data/ProtT5/output2.h5\")"
   ],
   "metadata": {
    "collapsed": false
   }
  },
  {
   "cell_type": "code",
   "execution_count": 21,
   "outputs": [],
   "source": [
    "import numpy as np\n",
    "label_578 = label_list1 + label_list2\n",
    "T5_578 = np.vstack((feature_1, feature_2))\n",
    "index_list, seq_list = readfasta(\"/home/kongge/projects/new_protT5/data/MSchlo578.fasta\")\n",
    "index_seq_dict = {index_list[i]: seq_list[i] for i in range(len(index_list))}\n",
    "seq_sorted_by_label578 = []\n",
    "for item in label_578:\n",
    "    seq_sorted_by_label578.append(index_seq_dict[item])"
   ],
   "metadata": {
    "collapsed": false
   }
  },
  {
   "cell_type": "code",
   "execution_count": 22,
   "outputs": [],
   "source": [
    "DPC_578 = np.array(DPC(seq_sorted_by_label578))"
   ],
   "metadata": {
    "collapsed": false
   }
  },
  {
   "cell_type": "code",
   "execution_count": 23,
   "outputs": [
    {
     "data": {
      "text/plain": "array([[0.        , 0.        , 0.        , ..., 0.        , 0.        ,\n        0.        ],\n       [0.0075188 , 0.        , 0.0075188 , ..., 0.        , 0.        ,\n        0.        ],\n       [0.        , 0.        , 0.        , ..., 0.        , 0.        ,\n        0.        ],\n       ...,\n       [0.        , 0.00456621, 0.00456621, ..., 0.        , 0.00456621,\n        0.00456621],\n       [0.01760563, 0.00352113, 0.        , ..., 0.00352113, 0.00352113,\n        0.00352113],\n       [0.00568182, 0.        , 0.00142045, ..., 0.        , 0.        ,\n        0.00142045]])"
     },
     "execution_count": 23,
     "metadata": {},
     "output_type": "execute_result"
    }
   ],
   "source": [
    "DPC_578"
   ],
   "metadata": {
    "collapsed": false
   }
  },
  {
   "cell_type": "code",
   "execution_count": 24,
   "outputs": [],
   "source": [
    "from feature_extraction.labelTools import labelList2Mutil\n",
    "\n",
    "mutil_label_578 = labelList2Mutil(label_578)"
   ],
   "metadata": {
    "collapsed": false
   }
  },
  {
   "cell_type": "code",
   "execution_count": 25,
   "outputs": [
    {
     "data": {
      "text/plain": "     envelope  lumen  plastoglobule  stroma  thylakoid_membrane\n0           0      0              0       0                   1\n1           0      0              0       0                   1\n2           0      0              0       0                   1\n3           0      0              0       0                   1\n4           0      0              0       0                   1\n..        ...    ...            ...     ...                 ...\n573         0      0              0       0                   1\n574         0      0              0       1                   0\n575         0      0              0       0                   1\n576         1      0              0       0                   0\n577         0      0              1       0                   0\n\n[578 rows x 5 columns]",
      "text/html": "<div>\n<style scoped>\n    .dataframe tbody tr th:only-of-type {\n        vertical-align: middle;\n    }\n\n    .dataframe tbody tr th {\n        vertical-align: top;\n    }\n\n    .dataframe thead th {\n        text-align: right;\n    }\n</style>\n<table border=\"1\" class=\"dataframe\">\n  <thead>\n    <tr style=\"text-align: right;\">\n      <th></th>\n      <th>envelope</th>\n      <th>lumen</th>\n      <th>plastoglobule</th>\n      <th>stroma</th>\n      <th>thylakoid_membrane</th>\n    </tr>\n  </thead>\n  <tbody>\n    <tr>\n      <th>0</th>\n      <td>0</td>\n      <td>0</td>\n      <td>0</td>\n      <td>0</td>\n      <td>1</td>\n    </tr>\n    <tr>\n      <th>1</th>\n      <td>0</td>\n      <td>0</td>\n      <td>0</td>\n      <td>0</td>\n      <td>1</td>\n    </tr>\n    <tr>\n      <th>2</th>\n      <td>0</td>\n      <td>0</td>\n      <td>0</td>\n      <td>0</td>\n      <td>1</td>\n    </tr>\n    <tr>\n      <th>3</th>\n      <td>0</td>\n      <td>0</td>\n      <td>0</td>\n      <td>0</td>\n      <td>1</td>\n    </tr>\n    <tr>\n      <th>4</th>\n      <td>0</td>\n      <td>0</td>\n      <td>0</td>\n      <td>0</td>\n      <td>1</td>\n    </tr>\n    <tr>\n      <th>...</th>\n      <td>...</td>\n      <td>...</td>\n      <td>...</td>\n      <td>...</td>\n      <td>...</td>\n    </tr>\n    <tr>\n      <th>573</th>\n      <td>0</td>\n      <td>0</td>\n      <td>0</td>\n      <td>0</td>\n      <td>1</td>\n    </tr>\n    <tr>\n      <th>574</th>\n      <td>0</td>\n      <td>0</td>\n      <td>0</td>\n      <td>1</td>\n      <td>0</td>\n    </tr>\n    <tr>\n      <th>575</th>\n      <td>0</td>\n      <td>0</td>\n      <td>0</td>\n      <td>0</td>\n      <td>1</td>\n    </tr>\n    <tr>\n      <th>576</th>\n      <td>1</td>\n      <td>0</td>\n      <td>0</td>\n      <td>0</td>\n      <td>0</td>\n    </tr>\n    <tr>\n      <th>577</th>\n      <td>0</td>\n      <td>0</td>\n      <td>1</td>\n      <td>0</td>\n      <td>0</td>\n    </tr>\n  </tbody>\n</table>\n<p>578 rows × 5 columns</p>\n</div>"
     },
     "execution_count": 25,
     "metadata": {},
     "output_type": "execute_result"
    }
   ],
   "source": [
    "mutil_label_578"
   ],
   "metadata": {
    "collapsed": false
   }
  },
  {
   "cell_type": "code",
   "execution_count": 26,
   "outputs": [],
   "source": [
    "import pandas as pd\n",
    "\n",
    "mutil_label_578 = pd.DataFrame(mutil_label_578)"
   ],
   "metadata": {
    "collapsed": false
   }
  },
  {
   "cell_type": "code",
   "execution_count": 27,
   "outputs": [
    {
     "data": {
      "text/plain": "     envelope  lumen  plastoglobule  stroma  thylakoid_membrane\n0           0      0              0       0                   1\n1           0      0              0       0                   1\n2           0      0              0       0                   1\n3           0      0              0       0                   1\n4           0      0              0       0                   1\n..        ...    ...            ...     ...                 ...\n573         0      0              0       0                   1\n574         0      0              0       1                   0\n575         0      0              0       0                   1\n576         1      0              0       0                   0\n577         0      0              1       0                   0\n\n[578 rows x 5 columns]",
      "text/html": "<div>\n<style scoped>\n    .dataframe tbody tr th:only-of-type {\n        vertical-align: middle;\n    }\n\n    .dataframe tbody tr th {\n        vertical-align: top;\n    }\n\n    .dataframe thead th {\n        text-align: right;\n    }\n</style>\n<table border=\"1\" class=\"dataframe\">\n  <thead>\n    <tr style=\"text-align: right;\">\n      <th></th>\n      <th>envelope</th>\n      <th>lumen</th>\n      <th>plastoglobule</th>\n      <th>stroma</th>\n      <th>thylakoid_membrane</th>\n    </tr>\n  </thead>\n  <tbody>\n    <tr>\n      <th>0</th>\n      <td>0</td>\n      <td>0</td>\n      <td>0</td>\n      <td>0</td>\n      <td>1</td>\n    </tr>\n    <tr>\n      <th>1</th>\n      <td>0</td>\n      <td>0</td>\n      <td>0</td>\n      <td>0</td>\n      <td>1</td>\n    </tr>\n    <tr>\n      <th>2</th>\n      <td>0</td>\n      <td>0</td>\n      <td>0</td>\n      <td>0</td>\n      <td>1</td>\n    </tr>\n    <tr>\n      <th>3</th>\n      <td>0</td>\n      <td>0</td>\n      <td>0</td>\n      <td>0</td>\n      <td>1</td>\n    </tr>\n    <tr>\n      <th>4</th>\n      <td>0</td>\n      <td>0</td>\n      <td>0</td>\n      <td>0</td>\n      <td>1</td>\n    </tr>\n    <tr>\n      <th>...</th>\n      <td>...</td>\n      <td>...</td>\n      <td>...</td>\n      <td>...</td>\n      <td>...</td>\n    </tr>\n    <tr>\n      <th>573</th>\n      <td>0</td>\n      <td>0</td>\n      <td>0</td>\n      <td>0</td>\n      <td>1</td>\n    </tr>\n    <tr>\n      <th>574</th>\n      <td>0</td>\n      <td>0</td>\n      <td>0</td>\n      <td>1</td>\n      <td>0</td>\n    </tr>\n    <tr>\n      <th>575</th>\n      <td>0</td>\n      <td>0</td>\n      <td>0</td>\n      <td>0</td>\n      <td>1</td>\n    </tr>\n    <tr>\n      <th>576</th>\n      <td>1</td>\n      <td>0</td>\n      <td>0</td>\n      <td>0</td>\n      <td>0</td>\n    </tr>\n    <tr>\n      <th>577</th>\n      <td>0</td>\n      <td>0</td>\n      <td>1</td>\n      <td>0</td>\n      <td>0</td>\n    </tr>\n  </tbody>\n</table>\n<p>578 rows × 5 columns</p>\n</div>"
     },
     "execution_count": 27,
     "metadata": {},
     "output_type": "execute_result"
    }
   ],
   "source": [
    "mutil_label_578"
   ],
   "metadata": {
    "collapsed": false
   }
  },
  {
   "cell_type": "code",
   "execution_count": 29,
   "outputs": [],
   "source": [
    "DPC_578 = pd.DataFrame(DPC_578)"
   ],
   "metadata": {
    "collapsed": false
   }
  },
  {
   "cell_type": "code",
   "execution_count": 30,
   "outputs": [
    {
     "data": {
      "text/plain": "          0         1         2         3         4         5        6    \\\n0    0.000000  0.000000  0.000000  0.000000  0.005525  0.005525  0.00000   \n1    0.007519  0.000000  0.007519  0.007519  0.000000  0.000000  0.00000   \n2    0.000000  0.000000  0.000000  0.011173  0.005587  0.005587  0.00000   \n3    0.000000  0.000000  0.005348  0.000000  0.005348  0.000000  0.00000   \n4    0.016304  0.000000  0.000000  0.021739  0.005435  0.005435  0.00000   \n..        ...       ...       ...       ...       ...       ...      ...   \n573  0.015789  0.000000  0.000000  0.005263  0.000000  0.000000  0.00000   \n574  0.000000  0.002075  0.002075  0.008299  0.006224  0.006224  0.00000   \n575  0.000000  0.004566  0.004566  0.000000  0.009132  0.004566  0.00000   \n576  0.017606  0.003521  0.000000  0.003521  0.000000  0.003521  0.00000   \n577  0.005682  0.000000  0.001420  0.004261  0.004261  0.001420  0.00142   \n\n          7         8         9    ...       390       391      392       393  \\\n0    0.011050  0.005525  0.005525  ...  0.000000  0.011050  0.00000  0.000000   \n1    0.000000  0.007519  0.015038  ...  0.000000  0.000000  0.00000  0.000000   \n2    0.000000  0.005587  0.005587  ...  0.000000  0.000000  0.00000  0.000000   \n3    0.000000  0.016043  0.005348  ...  0.000000  0.000000  0.00000  0.000000   \n4    0.005435  0.016304  0.027174  ...  0.000000  0.005435  0.01087  0.005435   \n..        ...       ...       ...  ...       ...       ...      ...       ...   \n573  0.000000  0.000000  0.005263  ...  0.000000  0.000000  0.00000  0.000000   \n574  0.002075  0.000000  0.010373  ...  0.000000  0.000000  0.00000  0.002075   \n575  0.000000  0.000000  0.009132  ...  0.000000  0.000000  0.00000  0.000000   \n576  0.010563  0.007042  0.007042  ...  0.003521  0.000000  0.00000  0.000000   \n577  0.000000  0.004261  0.007102  ...  0.000000  0.001420  0.00142  0.000000   \n\n          394       395       396       397       398       399  \n0    0.000000  0.005525  0.005525  0.000000  0.000000  0.000000  \n1    0.000000  0.000000  0.000000  0.000000  0.000000  0.000000  \n2    0.000000  0.000000  0.000000  0.000000  0.000000  0.000000  \n3    0.000000  0.000000  0.000000  0.000000  0.000000  0.000000  \n4    0.000000  0.000000  0.005435  0.000000  0.005435  0.016304  \n..        ...       ...       ...       ...       ...       ...  \n573  0.000000  0.000000  0.000000  0.015789  0.000000  0.005263  \n574  0.000000  0.000000  0.002075  0.004149  0.000000  0.002075  \n575  0.004566  0.009132  0.000000  0.000000  0.004566  0.004566  \n576  0.000000  0.000000  0.000000  0.003521  0.003521  0.003521  \n577  0.002841  0.002841  0.000000  0.000000  0.000000  0.001420  \n\n[578 rows x 400 columns]",
      "text/html": "<div>\n<style scoped>\n    .dataframe tbody tr th:only-of-type {\n        vertical-align: middle;\n    }\n\n    .dataframe tbody tr th {\n        vertical-align: top;\n    }\n\n    .dataframe thead th {\n        text-align: right;\n    }\n</style>\n<table border=\"1\" class=\"dataframe\">\n  <thead>\n    <tr style=\"text-align: right;\">\n      <th></th>\n      <th>0</th>\n      <th>1</th>\n      <th>2</th>\n      <th>3</th>\n      <th>4</th>\n      <th>5</th>\n      <th>6</th>\n      <th>7</th>\n      <th>8</th>\n      <th>9</th>\n      <th>...</th>\n      <th>390</th>\n      <th>391</th>\n      <th>392</th>\n      <th>393</th>\n      <th>394</th>\n      <th>395</th>\n      <th>396</th>\n      <th>397</th>\n      <th>398</th>\n      <th>399</th>\n    </tr>\n  </thead>\n  <tbody>\n    <tr>\n      <th>0</th>\n      <td>0.000000</td>\n      <td>0.000000</td>\n      <td>0.000000</td>\n      <td>0.000000</td>\n      <td>0.005525</td>\n      <td>0.005525</td>\n      <td>0.00000</td>\n      <td>0.011050</td>\n      <td>0.005525</td>\n      <td>0.005525</td>\n      <td>...</td>\n      <td>0.000000</td>\n      <td>0.011050</td>\n      <td>0.00000</td>\n      <td>0.000000</td>\n      <td>0.000000</td>\n      <td>0.005525</td>\n      <td>0.005525</td>\n      <td>0.000000</td>\n      <td>0.000000</td>\n      <td>0.000000</td>\n    </tr>\n    <tr>\n      <th>1</th>\n      <td>0.007519</td>\n      <td>0.000000</td>\n      <td>0.007519</td>\n      <td>0.007519</td>\n      <td>0.000000</td>\n      <td>0.000000</td>\n      <td>0.00000</td>\n      <td>0.000000</td>\n      <td>0.007519</td>\n      <td>0.015038</td>\n      <td>...</td>\n      <td>0.000000</td>\n      <td>0.000000</td>\n      <td>0.00000</td>\n      <td>0.000000</td>\n      <td>0.000000</td>\n      <td>0.000000</td>\n      <td>0.000000</td>\n      <td>0.000000</td>\n      <td>0.000000</td>\n      <td>0.000000</td>\n    </tr>\n    <tr>\n      <th>2</th>\n      <td>0.000000</td>\n      <td>0.000000</td>\n      <td>0.000000</td>\n      <td>0.011173</td>\n      <td>0.005587</td>\n      <td>0.005587</td>\n      <td>0.00000</td>\n      <td>0.000000</td>\n      <td>0.005587</td>\n      <td>0.005587</td>\n      <td>...</td>\n      <td>0.000000</td>\n      <td>0.000000</td>\n      <td>0.00000</td>\n      <td>0.000000</td>\n      <td>0.000000</td>\n      <td>0.000000</td>\n      <td>0.000000</td>\n      <td>0.000000</td>\n      <td>0.000000</td>\n      <td>0.000000</td>\n    </tr>\n    <tr>\n      <th>3</th>\n      <td>0.000000</td>\n      <td>0.000000</td>\n      <td>0.005348</td>\n      <td>0.000000</td>\n      <td>0.005348</td>\n      <td>0.000000</td>\n      <td>0.00000</td>\n      <td>0.000000</td>\n      <td>0.016043</td>\n      <td>0.005348</td>\n      <td>...</td>\n      <td>0.000000</td>\n      <td>0.000000</td>\n      <td>0.00000</td>\n      <td>0.000000</td>\n      <td>0.000000</td>\n      <td>0.000000</td>\n      <td>0.000000</td>\n      <td>0.000000</td>\n      <td>0.000000</td>\n      <td>0.000000</td>\n    </tr>\n    <tr>\n      <th>4</th>\n      <td>0.016304</td>\n      <td>0.000000</td>\n      <td>0.000000</td>\n      <td>0.021739</td>\n      <td>0.005435</td>\n      <td>0.005435</td>\n      <td>0.00000</td>\n      <td>0.005435</td>\n      <td>0.016304</td>\n      <td>0.027174</td>\n      <td>...</td>\n      <td>0.000000</td>\n      <td>0.005435</td>\n      <td>0.01087</td>\n      <td>0.005435</td>\n      <td>0.000000</td>\n      <td>0.000000</td>\n      <td>0.005435</td>\n      <td>0.000000</td>\n      <td>0.005435</td>\n      <td>0.016304</td>\n    </tr>\n    <tr>\n      <th>...</th>\n      <td>...</td>\n      <td>...</td>\n      <td>...</td>\n      <td>...</td>\n      <td>...</td>\n      <td>...</td>\n      <td>...</td>\n      <td>...</td>\n      <td>...</td>\n      <td>...</td>\n      <td>...</td>\n      <td>...</td>\n      <td>...</td>\n      <td>...</td>\n      <td>...</td>\n      <td>...</td>\n      <td>...</td>\n      <td>...</td>\n      <td>...</td>\n      <td>...</td>\n      <td>...</td>\n    </tr>\n    <tr>\n      <th>573</th>\n      <td>0.015789</td>\n      <td>0.000000</td>\n      <td>0.000000</td>\n      <td>0.005263</td>\n      <td>0.000000</td>\n      <td>0.000000</td>\n      <td>0.00000</td>\n      <td>0.000000</td>\n      <td>0.000000</td>\n      <td>0.005263</td>\n      <td>...</td>\n      <td>0.000000</td>\n      <td>0.000000</td>\n      <td>0.00000</td>\n      <td>0.000000</td>\n      <td>0.000000</td>\n      <td>0.000000</td>\n      <td>0.000000</td>\n      <td>0.015789</td>\n      <td>0.000000</td>\n      <td>0.005263</td>\n    </tr>\n    <tr>\n      <th>574</th>\n      <td>0.000000</td>\n      <td>0.002075</td>\n      <td>0.002075</td>\n      <td>0.008299</td>\n      <td>0.006224</td>\n      <td>0.006224</td>\n      <td>0.00000</td>\n      <td>0.002075</td>\n      <td>0.000000</td>\n      <td>0.010373</td>\n      <td>...</td>\n      <td>0.000000</td>\n      <td>0.000000</td>\n      <td>0.00000</td>\n      <td>0.002075</td>\n      <td>0.000000</td>\n      <td>0.000000</td>\n      <td>0.002075</td>\n      <td>0.004149</td>\n      <td>0.000000</td>\n      <td>0.002075</td>\n    </tr>\n    <tr>\n      <th>575</th>\n      <td>0.000000</td>\n      <td>0.004566</td>\n      <td>0.004566</td>\n      <td>0.000000</td>\n      <td>0.009132</td>\n      <td>0.004566</td>\n      <td>0.00000</td>\n      <td>0.000000</td>\n      <td>0.000000</td>\n      <td>0.009132</td>\n      <td>...</td>\n      <td>0.000000</td>\n      <td>0.000000</td>\n      <td>0.00000</td>\n      <td>0.000000</td>\n      <td>0.004566</td>\n      <td>0.009132</td>\n      <td>0.000000</td>\n      <td>0.000000</td>\n      <td>0.004566</td>\n      <td>0.004566</td>\n    </tr>\n    <tr>\n      <th>576</th>\n      <td>0.017606</td>\n      <td>0.003521</td>\n      <td>0.000000</td>\n      <td>0.003521</td>\n      <td>0.000000</td>\n      <td>0.003521</td>\n      <td>0.00000</td>\n      <td>0.010563</td>\n      <td>0.007042</td>\n      <td>0.007042</td>\n      <td>...</td>\n      <td>0.003521</td>\n      <td>0.000000</td>\n      <td>0.00000</td>\n      <td>0.000000</td>\n      <td>0.000000</td>\n      <td>0.000000</td>\n      <td>0.000000</td>\n      <td>0.003521</td>\n      <td>0.003521</td>\n      <td>0.003521</td>\n    </tr>\n    <tr>\n      <th>577</th>\n      <td>0.005682</td>\n      <td>0.000000</td>\n      <td>0.001420</td>\n      <td>0.004261</td>\n      <td>0.004261</td>\n      <td>0.001420</td>\n      <td>0.00142</td>\n      <td>0.000000</td>\n      <td>0.004261</td>\n      <td>0.007102</td>\n      <td>...</td>\n      <td>0.000000</td>\n      <td>0.001420</td>\n      <td>0.00142</td>\n      <td>0.000000</td>\n      <td>0.002841</td>\n      <td>0.002841</td>\n      <td>0.000000</td>\n      <td>0.000000</td>\n      <td>0.000000</td>\n      <td>0.001420</td>\n    </tr>\n  </tbody>\n</table>\n<p>578 rows × 400 columns</p>\n</div>"
     },
     "execution_count": 30,
     "metadata": {},
     "output_type": "execute_result"
    }
   ],
   "source": [
    "DPC_578"
   ],
   "metadata": {
    "collapsed": false
   }
  },
  {
   "cell_type": "code",
   "execution_count": 31,
   "outputs": [],
   "source": [
    "sig_label_samples = mutil_label_578[(mutil_label_578.sum(axis=1) == 1)]\n",
    "sig_label_indices = sig_label_samples.index\n",
    "sig_features_samples = DPC_578.loc[sig_label_indices]"
   ],
   "metadata": {
    "collapsed": false
   }
  },
  {
   "cell_type": "code",
   "execution_count": 33,
   "outputs": [
    {
     "data": {
      "text/plain": "          0         1         2         3         4         5        6    \\\n0    0.000000  0.000000  0.000000  0.000000  0.005525  0.005525  0.00000   \n1    0.007519  0.000000  0.007519  0.007519  0.000000  0.000000  0.00000   \n2    0.000000  0.000000  0.000000  0.011173  0.005587  0.005587  0.00000   \n3    0.000000  0.000000  0.005348  0.000000  0.005348  0.000000  0.00000   \n4    0.016304  0.000000  0.000000  0.021739  0.005435  0.005435  0.00000   \n..        ...       ...       ...       ...       ...       ...      ...   \n573  0.015789  0.000000  0.000000  0.005263  0.000000  0.000000  0.00000   \n574  0.000000  0.002075  0.002075  0.008299  0.006224  0.006224  0.00000   \n575  0.000000  0.004566  0.004566  0.000000  0.009132  0.004566  0.00000   \n576  0.017606  0.003521  0.000000  0.003521  0.000000  0.003521  0.00000   \n577  0.005682  0.000000  0.001420  0.004261  0.004261  0.001420  0.00142   \n\n          7         8         9    ...       390       391      392       393  \\\n0    0.011050  0.005525  0.005525  ...  0.000000  0.011050  0.00000  0.000000   \n1    0.000000  0.007519  0.015038  ...  0.000000  0.000000  0.00000  0.000000   \n2    0.000000  0.005587  0.005587  ...  0.000000  0.000000  0.00000  0.000000   \n3    0.000000  0.016043  0.005348  ...  0.000000  0.000000  0.00000  0.000000   \n4    0.005435  0.016304  0.027174  ...  0.000000  0.005435  0.01087  0.005435   \n..        ...       ...       ...  ...       ...       ...      ...       ...   \n573  0.000000  0.000000  0.005263  ...  0.000000  0.000000  0.00000  0.000000   \n574  0.002075  0.000000  0.010373  ...  0.000000  0.000000  0.00000  0.002075   \n575  0.000000  0.000000  0.009132  ...  0.000000  0.000000  0.00000  0.000000   \n576  0.010563  0.007042  0.007042  ...  0.003521  0.000000  0.00000  0.000000   \n577  0.000000  0.004261  0.007102  ...  0.000000  0.001420  0.00142  0.000000   \n\n          394       395       396       397       398       399  \n0    0.000000  0.005525  0.005525  0.000000  0.000000  0.000000  \n1    0.000000  0.000000  0.000000  0.000000  0.000000  0.000000  \n2    0.000000  0.000000  0.000000  0.000000  0.000000  0.000000  \n3    0.000000  0.000000  0.000000  0.000000  0.000000  0.000000  \n4    0.000000  0.000000  0.005435  0.000000  0.005435  0.016304  \n..        ...       ...       ...       ...       ...       ...  \n573  0.000000  0.000000  0.000000  0.015789  0.000000  0.005263  \n574  0.000000  0.000000  0.002075  0.004149  0.000000  0.002075  \n575  0.004566  0.009132  0.000000  0.000000  0.004566  0.004566  \n576  0.000000  0.000000  0.000000  0.003521  0.003521  0.003521  \n577  0.002841  0.002841  0.000000  0.000000  0.000000  0.001420  \n\n[556 rows x 400 columns]",
      "text/html": "<div>\n<style scoped>\n    .dataframe tbody tr th:only-of-type {\n        vertical-align: middle;\n    }\n\n    .dataframe tbody tr th {\n        vertical-align: top;\n    }\n\n    .dataframe thead th {\n        text-align: right;\n    }\n</style>\n<table border=\"1\" class=\"dataframe\">\n  <thead>\n    <tr style=\"text-align: right;\">\n      <th></th>\n      <th>0</th>\n      <th>1</th>\n      <th>2</th>\n      <th>3</th>\n      <th>4</th>\n      <th>5</th>\n      <th>6</th>\n      <th>7</th>\n      <th>8</th>\n      <th>9</th>\n      <th>...</th>\n      <th>390</th>\n      <th>391</th>\n      <th>392</th>\n      <th>393</th>\n      <th>394</th>\n      <th>395</th>\n      <th>396</th>\n      <th>397</th>\n      <th>398</th>\n      <th>399</th>\n    </tr>\n  </thead>\n  <tbody>\n    <tr>\n      <th>0</th>\n      <td>0.000000</td>\n      <td>0.000000</td>\n      <td>0.000000</td>\n      <td>0.000000</td>\n      <td>0.005525</td>\n      <td>0.005525</td>\n      <td>0.00000</td>\n      <td>0.011050</td>\n      <td>0.005525</td>\n      <td>0.005525</td>\n      <td>...</td>\n      <td>0.000000</td>\n      <td>0.011050</td>\n      <td>0.00000</td>\n      <td>0.000000</td>\n      <td>0.000000</td>\n      <td>0.005525</td>\n      <td>0.005525</td>\n      <td>0.000000</td>\n      <td>0.000000</td>\n      <td>0.000000</td>\n    </tr>\n    <tr>\n      <th>1</th>\n      <td>0.007519</td>\n      <td>0.000000</td>\n      <td>0.007519</td>\n      <td>0.007519</td>\n      <td>0.000000</td>\n      <td>0.000000</td>\n      <td>0.00000</td>\n      <td>0.000000</td>\n      <td>0.007519</td>\n      <td>0.015038</td>\n      <td>...</td>\n      <td>0.000000</td>\n      <td>0.000000</td>\n      <td>0.00000</td>\n      <td>0.000000</td>\n      <td>0.000000</td>\n      <td>0.000000</td>\n      <td>0.000000</td>\n      <td>0.000000</td>\n      <td>0.000000</td>\n      <td>0.000000</td>\n    </tr>\n    <tr>\n      <th>2</th>\n      <td>0.000000</td>\n      <td>0.000000</td>\n      <td>0.000000</td>\n      <td>0.011173</td>\n      <td>0.005587</td>\n      <td>0.005587</td>\n      <td>0.00000</td>\n      <td>0.000000</td>\n      <td>0.005587</td>\n      <td>0.005587</td>\n      <td>...</td>\n      <td>0.000000</td>\n      <td>0.000000</td>\n      <td>0.00000</td>\n      <td>0.000000</td>\n      <td>0.000000</td>\n      <td>0.000000</td>\n      <td>0.000000</td>\n      <td>0.000000</td>\n      <td>0.000000</td>\n      <td>0.000000</td>\n    </tr>\n    <tr>\n      <th>3</th>\n      <td>0.000000</td>\n      <td>0.000000</td>\n      <td>0.005348</td>\n      <td>0.000000</td>\n      <td>0.005348</td>\n      <td>0.000000</td>\n      <td>0.00000</td>\n      <td>0.000000</td>\n      <td>0.016043</td>\n      <td>0.005348</td>\n      <td>...</td>\n      <td>0.000000</td>\n      <td>0.000000</td>\n      <td>0.00000</td>\n      <td>0.000000</td>\n      <td>0.000000</td>\n      <td>0.000000</td>\n      <td>0.000000</td>\n      <td>0.000000</td>\n      <td>0.000000</td>\n      <td>0.000000</td>\n    </tr>\n    <tr>\n      <th>4</th>\n      <td>0.016304</td>\n      <td>0.000000</td>\n      <td>0.000000</td>\n      <td>0.021739</td>\n      <td>0.005435</td>\n      <td>0.005435</td>\n      <td>0.00000</td>\n      <td>0.005435</td>\n      <td>0.016304</td>\n      <td>0.027174</td>\n      <td>...</td>\n      <td>0.000000</td>\n      <td>0.005435</td>\n      <td>0.01087</td>\n      <td>0.005435</td>\n      <td>0.000000</td>\n      <td>0.000000</td>\n      <td>0.005435</td>\n      <td>0.000000</td>\n      <td>0.005435</td>\n      <td>0.016304</td>\n    </tr>\n    <tr>\n      <th>...</th>\n      <td>...</td>\n      <td>...</td>\n      <td>...</td>\n      <td>...</td>\n      <td>...</td>\n      <td>...</td>\n      <td>...</td>\n      <td>...</td>\n      <td>...</td>\n      <td>...</td>\n      <td>...</td>\n      <td>...</td>\n      <td>...</td>\n      <td>...</td>\n      <td>...</td>\n      <td>...</td>\n      <td>...</td>\n      <td>...</td>\n      <td>...</td>\n      <td>...</td>\n      <td>...</td>\n    </tr>\n    <tr>\n      <th>573</th>\n      <td>0.015789</td>\n      <td>0.000000</td>\n      <td>0.000000</td>\n      <td>0.005263</td>\n      <td>0.000000</td>\n      <td>0.000000</td>\n      <td>0.00000</td>\n      <td>0.000000</td>\n      <td>0.000000</td>\n      <td>0.005263</td>\n      <td>...</td>\n      <td>0.000000</td>\n      <td>0.000000</td>\n      <td>0.00000</td>\n      <td>0.000000</td>\n      <td>0.000000</td>\n      <td>0.000000</td>\n      <td>0.000000</td>\n      <td>0.015789</td>\n      <td>0.000000</td>\n      <td>0.005263</td>\n    </tr>\n    <tr>\n      <th>574</th>\n      <td>0.000000</td>\n      <td>0.002075</td>\n      <td>0.002075</td>\n      <td>0.008299</td>\n      <td>0.006224</td>\n      <td>0.006224</td>\n      <td>0.00000</td>\n      <td>0.002075</td>\n      <td>0.000000</td>\n      <td>0.010373</td>\n      <td>...</td>\n      <td>0.000000</td>\n      <td>0.000000</td>\n      <td>0.00000</td>\n      <td>0.002075</td>\n      <td>0.000000</td>\n      <td>0.000000</td>\n      <td>0.002075</td>\n      <td>0.004149</td>\n      <td>0.000000</td>\n      <td>0.002075</td>\n    </tr>\n    <tr>\n      <th>575</th>\n      <td>0.000000</td>\n      <td>0.004566</td>\n      <td>0.004566</td>\n      <td>0.000000</td>\n      <td>0.009132</td>\n      <td>0.004566</td>\n      <td>0.00000</td>\n      <td>0.000000</td>\n      <td>0.000000</td>\n      <td>0.009132</td>\n      <td>...</td>\n      <td>0.000000</td>\n      <td>0.000000</td>\n      <td>0.00000</td>\n      <td>0.000000</td>\n      <td>0.004566</td>\n      <td>0.009132</td>\n      <td>0.000000</td>\n      <td>0.000000</td>\n      <td>0.004566</td>\n      <td>0.004566</td>\n    </tr>\n    <tr>\n      <th>576</th>\n      <td>0.017606</td>\n      <td>0.003521</td>\n      <td>0.000000</td>\n      <td>0.003521</td>\n      <td>0.000000</td>\n      <td>0.003521</td>\n      <td>0.00000</td>\n      <td>0.010563</td>\n      <td>0.007042</td>\n      <td>0.007042</td>\n      <td>...</td>\n      <td>0.003521</td>\n      <td>0.000000</td>\n      <td>0.00000</td>\n      <td>0.000000</td>\n      <td>0.000000</td>\n      <td>0.000000</td>\n      <td>0.000000</td>\n      <td>0.003521</td>\n      <td>0.003521</td>\n      <td>0.003521</td>\n    </tr>\n    <tr>\n      <th>577</th>\n      <td>0.005682</td>\n      <td>0.000000</td>\n      <td>0.001420</td>\n      <td>0.004261</td>\n      <td>0.004261</td>\n      <td>0.001420</td>\n      <td>0.00142</td>\n      <td>0.000000</td>\n      <td>0.004261</td>\n      <td>0.007102</td>\n      <td>...</td>\n      <td>0.000000</td>\n      <td>0.001420</td>\n      <td>0.00142</td>\n      <td>0.000000</td>\n      <td>0.002841</td>\n      <td>0.002841</td>\n      <td>0.000000</td>\n      <td>0.000000</td>\n      <td>0.000000</td>\n      <td>0.001420</td>\n    </tr>\n  </tbody>\n</table>\n<p>556 rows × 400 columns</p>\n</div>"
     },
     "execution_count": 33,
     "metadata": {},
     "output_type": "execute_result"
    }
   ],
   "source": [
    "sig_features_samples"
   ],
   "metadata": {
    "collapsed": false
   }
  },
  {
   "cell_type": "code",
   "execution_count": 34,
   "outputs": [
    {
     "data": {
      "text/plain": "     envelope  lumen  plastoglobule  stroma  thylakoid_membrane\n0           0      0              0       0                   1\n1           0      0              0       0                   1\n2           0      0              0       0                   1\n3           0      0              0       0                   1\n4           0      0              0       0                   1\n..        ...    ...            ...     ...                 ...\n573         0      0              0       0                   1\n574         0      0              0       1                   0\n575         0      0              0       0                   1\n576         1      0              0       0                   0\n577         0      0              1       0                   0\n\n[556 rows x 5 columns]",
      "text/html": "<div>\n<style scoped>\n    .dataframe tbody tr th:only-of-type {\n        vertical-align: middle;\n    }\n\n    .dataframe tbody tr th {\n        vertical-align: top;\n    }\n\n    .dataframe thead th {\n        text-align: right;\n    }\n</style>\n<table border=\"1\" class=\"dataframe\">\n  <thead>\n    <tr style=\"text-align: right;\">\n      <th></th>\n      <th>envelope</th>\n      <th>lumen</th>\n      <th>plastoglobule</th>\n      <th>stroma</th>\n      <th>thylakoid_membrane</th>\n    </tr>\n  </thead>\n  <tbody>\n    <tr>\n      <th>0</th>\n      <td>0</td>\n      <td>0</td>\n      <td>0</td>\n      <td>0</td>\n      <td>1</td>\n    </tr>\n    <tr>\n      <th>1</th>\n      <td>0</td>\n      <td>0</td>\n      <td>0</td>\n      <td>0</td>\n      <td>1</td>\n    </tr>\n    <tr>\n      <th>2</th>\n      <td>0</td>\n      <td>0</td>\n      <td>0</td>\n      <td>0</td>\n      <td>1</td>\n    </tr>\n    <tr>\n      <th>3</th>\n      <td>0</td>\n      <td>0</td>\n      <td>0</td>\n      <td>0</td>\n      <td>1</td>\n    </tr>\n    <tr>\n      <th>4</th>\n      <td>0</td>\n      <td>0</td>\n      <td>0</td>\n      <td>0</td>\n      <td>1</td>\n    </tr>\n    <tr>\n      <th>...</th>\n      <td>...</td>\n      <td>...</td>\n      <td>...</td>\n      <td>...</td>\n      <td>...</td>\n    </tr>\n    <tr>\n      <th>573</th>\n      <td>0</td>\n      <td>0</td>\n      <td>0</td>\n      <td>0</td>\n      <td>1</td>\n    </tr>\n    <tr>\n      <th>574</th>\n      <td>0</td>\n      <td>0</td>\n      <td>0</td>\n      <td>1</td>\n      <td>0</td>\n    </tr>\n    <tr>\n      <th>575</th>\n      <td>0</td>\n      <td>0</td>\n      <td>0</td>\n      <td>0</td>\n      <td>1</td>\n    </tr>\n    <tr>\n      <th>576</th>\n      <td>1</td>\n      <td>0</td>\n      <td>0</td>\n      <td>0</td>\n      <td>0</td>\n    </tr>\n    <tr>\n      <th>577</th>\n      <td>0</td>\n      <td>0</td>\n      <td>1</td>\n      <td>0</td>\n      <td>0</td>\n    </tr>\n  </tbody>\n</table>\n<p>556 rows × 5 columns</p>\n</div>"
     },
     "execution_count": 34,
     "metadata": {},
     "output_type": "execute_result"
    }
   ],
   "source": [
    "sig_label_samples"
   ],
   "metadata": {
    "collapsed": false
   }
  },
  {
   "cell_type": "code",
   "execution_count": 37,
   "outputs": [],
   "source": [
    "label_list = []\n",
    "for index, row in sig_label_samples.iterrows():\n",
    "    if row['envelope'] == 1:\n",
    "        label_list.append(0)\n",
    "    elif row['lumen'] == 1:\n",
    "        label_list.append(1)\n",
    "    elif row['plastoglobule'] == 1:\n",
    "        label_list.append(2)\n",
    "    elif row['stroma'] == 1:\n",
    "        label_list.append(3)\n",
    "    elif row['thylakoid_membrane']:\n",
    "        label_list.append(4)"
   ],
   "metadata": {
    "collapsed": false
   }
  },
  {
   "cell_type": "code",
   "execution_count": 39,
   "outputs": [
    {
     "data": {
      "text/plain": "556"
     },
     "execution_count": 39,
     "metadata": {},
     "output_type": "execute_result"
    }
   ],
   "source": [
    "len(label_list)"
   ],
   "metadata": {
    "collapsed": false
   }
  },
  {
   "cell_type": "code",
   "execution_count": 40,
   "outputs": [],
   "source": [
    "from sklearn.model_selection import train_test_split"
   ],
   "metadata": {
    "collapsed": false
   }
  },
  {
   "cell_type": "code",
   "execution_count": 41,
   "outputs": [],
   "source": [
    "X_train, X_test, y_train, y_test = train_test_split(sig_features_samples, label_list, test_size=0.2)"
   ],
   "metadata": {
    "collapsed": false
   }
  },
  {
   "cell_type": "code",
   "execution_count": 42,
   "outputs": [
    {
     "data": {
      "text/plain": "          0         1         2         3         4         5    6    \\\n11   0.000000  0.000000  0.000000  0.000000  0.002247  0.000000  0.0   \n76   0.013043  0.002174  0.002174  0.000000  0.000000  0.004348  0.0   \n570  0.010309  0.010309  0.000000  0.000000  0.010309  0.000000  0.0   \n84   0.007246  0.000000  0.000000  0.003623  0.007246  0.000000  0.0   \n576  0.017606  0.003521  0.000000  0.003521  0.000000  0.003521  0.0   \n..        ...       ...       ...       ...       ...       ...  ...   \n200  0.001366  0.001366  0.000000  0.004098  0.005464  0.009563  0.0   \n500  0.005797  0.000000  0.000000  0.000000  0.000000  0.008696  0.0   \n481  0.008242  0.000000  0.002747  0.000000  0.002747  0.002747  0.0   \n394  0.000000  0.000000  0.004132  0.000000  0.000000  0.000000  0.0   \n160  0.014682  0.001631  0.001631  0.004894  0.003263  0.006525  0.0   \n\n          7         8         9    ...       390       391       392  \\\n11   0.004494  0.002247  0.006742  ...  0.002247  0.004494  0.000000   \n76   0.002174  0.002174  0.006522  ...  0.000000  0.002174  0.002174   \n570  0.000000  0.000000  0.010309  ...  0.000000  0.000000  0.000000   \n84   0.010870  0.007246  0.014493  ...  0.000000  0.000000  0.000000   \n576  0.010563  0.007042  0.007042  ...  0.003521  0.000000  0.000000   \n..        ...       ...       ...  ...       ...       ...       ...   \n200  0.001366  0.001366  0.004098  ...  0.001366  0.000000  0.000000   \n500  0.000000  0.000000  0.005797  ...  0.000000  0.000000  0.000000   \n481  0.005495  0.002747  0.005495  ...  0.000000  0.000000  0.002747   \n394  0.000000  0.004132  0.008264  ...  0.000000  0.004132  0.000000   \n160  0.008157  0.006525  0.009788  ...  0.000000  0.000000  0.001631   \n\n          393       394       395       396       397       398       399  \n11   0.004494  0.000000  0.004494  0.000000  0.000000  0.002247  0.000000  \n76   0.002174  0.004348  0.002174  0.000000  0.004348  0.004348  0.004348  \n570  0.000000  0.000000  0.010309  0.000000  0.000000  0.000000  0.010309  \n84   0.000000  0.000000  0.000000  0.000000  0.000000  0.000000  0.000000  \n576  0.000000  0.000000  0.000000  0.000000  0.003521  0.003521  0.003521  \n..        ...       ...       ...       ...       ...       ...       ...  \n200  0.000000  0.000000  0.005464  0.002732  0.001366  0.000000  0.000000  \n500  0.000000  0.000000  0.000000  0.000000  0.000000  0.000000  0.000000  \n481  0.000000  0.002747  0.002747  0.000000  0.000000  0.002747  0.000000  \n394  0.000000  0.004132  0.004132  0.000000  0.004132  0.000000  0.000000  \n160  0.003263  0.001631  0.001631  0.003263  0.000000  0.000000  0.001631  \n\n[444 rows x 400 columns]",
      "text/html": "<div>\n<style scoped>\n    .dataframe tbody tr th:only-of-type {\n        vertical-align: middle;\n    }\n\n    .dataframe tbody tr th {\n        vertical-align: top;\n    }\n\n    .dataframe thead th {\n        text-align: right;\n    }\n</style>\n<table border=\"1\" class=\"dataframe\">\n  <thead>\n    <tr style=\"text-align: right;\">\n      <th></th>\n      <th>0</th>\n      <th>1</th>\n      <th>2</th>\n      <th>3</th>\n      <th>4</th>\n      <th>5</th>\n      <th>6</th>\n      <th>7</th>\n      <th>8</th>\n      <th>9</th>\n      <th>...</th>\n      <th>390</th>\n      <th>391</th>\n      <th>392</th>\n      <th>393</th>\n      <th>394</th>\n      <th>395</th>\n      <th>396</th>\n      <th>397</th>\n      <th>398</th>\n      <th>399</th>\n    </tr>\n  </thead>\n  <tbody>\n    <tr>\n      <th>11</th>\n      <td>0.000000</td>\n      <td>0.000000</td>\n      <td>0.000000</td>\n      <td>0.000000</td>\n      <td>0.002247</td>\n      <td>0.000000</td>\n      <td>0.0</td>\n      <td>0.004494</td>\n      <td>0.002247</td>\n      <td>0.006742</td>\n      <td>...</td>\n      <td>0.002247</td>\n      <td>0.004494</td>\n      <td>0.000000</td>\n      <td>0.004494</td>\n      <td>0.000000</td>\n      <td>0.004494</td>\n      <td>0.000000</td>\n      <td>0.000000</td>\n      <td>0.002247</td>\n      <td>0.000000</td>\n    </tr>\n    <tr>\n      <th>76</th>\n      <td>0.013043</td>\n      <td>0.002174</td>\n      <td>0.002174</td>\n      <td>0.000000</td>\n      <td>0.000000</td>\n      <td>0.004348</td>\n      <td>0.0</td>\n      <td>0.002174</td>\n      <td>0.002174</td>\n      <td>0.006522</td>\n      <td>...</td>\n      <td>0.000000</td>\n      <td>0.002174</td>\n      <td>0.002174</td>\n      <td>0.002174</td>\n      <td>0.004348</td>\n      <td>0.002174</td>\n      <td>0.000000</td>\n      <td>0.004348</td>\n      <td>0.004348</td>\n      <td>0.004348</td>\n    </tr>\n    <tr>\n      <th>570</th>\n      <td>0.010309</td>\n      <td>0.010309</td>\n      <td>0.000000</td>\n      <td>0.000000</td>\n      <td>0.010309</td>\n      <td>0.000000</td>\n      <td>0.0</td>\n      <td>0.000000</td>\n      <td>0.000000</td>\n      <td>0.010309</td>\n      <td>...</td>\n      <td>0.000000</td>\n      <td>0.000000</td>\n      <td>0.000000</td>\n      <td>0.000000</td>\n      <td>0.000000</td>\n      <td>0.010309</td>\n      <td>0.000000</td>\n      <td>0.000000</td>\n      <td>0.000000</td>\n      <td>0.010309</td>\n    </tr>\n    <tr>\n      <th>84</th>\n      <td>0.007246</td>\n      <td>0.000000</td>\n      <td>0.000000</td>\n      <td>0.003623</td>\n      <td>0.007246</td>\n      <td>0.000000</td>\n      <td>0.0</td>\n      <td>0.010870</td>\n      <td>0.007246</td>\n      <td>0.014493</td>\n      <td>...</td>\n      <td>0.000000</td>\n      <td>0.000000</td>\n      <td>0.000000</td>\n      <td>0.000000</td>\n      <td>0.000000</td>\n      <td>0.000000</td>\n      <td>0.000000</td>\n      <td>0.000000</td>\n      <td>0.000000</td>\n      <td>0.000000</td>\n    </tr>\n    <tr>\n      <th>576</th>\n      <td>0.017606</td>\n      <td>0.003521</td>\n      <td>0.000000</td>\n      <td>0.003521</td>\n      <td>0.000000</td>\n      <td>0.003521</td>\n      <td>0.0</td>\n      <td>0.010563</td>\n      <td>0.007042</td>\n      <td>0.007042</td>\n      <td>...</td>\n      <td>0.003521</td>\n      <td>0.000000</td>\n      <td>0.000000</td>\n      <td>0.000000</td>\n      <td>0.000000</td>\n      <td>0.000000</td>\n      <td>0.000000</td>\n      <td>0.003521</td>\n      <td>0.003521</td>\n      <td>0.003521</td>\n    </tr>\n    <tr>\n      <th>...</th>\n      <td>...</td>\n      <td>...</td>\n      <td>...</td>\n      <td>...</td>\n      <td>...</td>\n      <td>...</td>\n      <td>...</td>\n      <td>...</td>\n      <td>...</td>\n      <td>...</td>\n      <td>...</td>\n      <td>...</td>\n      <td>...</td>\n      <td>...</td>\n      <td>...</td>\n      <td>...</td>\n      <td>...</td>\n      <td>...</td>\n      <td>...</td>\n      <td>...</td>\n      <td>...</td>\n    </tr>\n    <tr>\n      <th>200</th>\n      <td>0.001366</td>\n      <td>0.001366</td>\n      <td>0.000000</td>\n      <td>0.004098</td>\n      <td>0.005464</td>\n      <td>0.009563</td>\n      <td>0.0</td>\n      <td>0.001366</td>\n      <td>0.001366</td>\n      <td>0.004098</td>\n      <td>...</td>\n      <td>0.001366</td>\n      <td>0.000000</td>\n      <td>0.000000</td>\n      <td>0.000000</td>\n      <td>0.000000</td>\n      <td>0.005464</td>\n      <td>0.002732</td>\n      <td>0.001366</td>\n      <td>0.000000</td>\n      <td>0.000000</td>\n    </tr>\n    <tr>\n      <th>500</th>\n      <td>0.005797</td>\n      <td>0.000000</td>\n      <td>0.000000</td>\n      <td>0.000000</td>\n      <td>0.000000</td>\n      <td>0.008696</td>\n      <td>0.0</td>\n      <td>0.000000</td>\n      <td>0.000000</td>\n      <td>0.005797</td>\n      <td>...</td>\n      <td>0.000000</td>\n      <td>0.000000</td>\n      <td>0.000000</td>\n      <td>0.000000</td>\n      <td>0.000000</td>\n      <td>0.000000</td>\n      <td>0.000000</td>\n      <td>0.000000</td>\n      <td>0.000000</td>\n      <td>0.000000</td>\n    </tr>\n    <tr>\n      <th>481</th>\n      <td>0.008242</td>\n      <td>0.000000</td>\n      <td>0.002747</td>\n      <td>0.000000</td>\n      <td>0.002747</td>\n      <td>0.002747</td>\n      <td>0.0</td>\n      <td>0.005495</td>\n      <td>0.002747</td>\n      <td>0.005495</td>\n      <td>...</td>\n      <td>0.000000</td>\n      <td>0.000000</td>\n      <td>0.002747</td>\n      <td>0.000000</td>\n      <td>0.002747</td>\n      <td>0.002747</td>\n      <td>0.000000</td>\n      <td>0.000000</td>\n      <td>0.002747</td>\n      <td>0.000000</td>\n    </tr>\n    <tr>\n      <th>394</th>\n      <td>0.000000</td>\n      <td>0.000000</td>\n      <td>0.004132</td>\n      <td>0.000000</td>\n      <td>0.000000</td>\n      <td>0.000000</td>\n      <td>0.0</td>\n      <td>0.000000</td>\n      <td>0.004132</td>\n      <td>0.008264</td>\n      <td>...</td>\n      <td>0.000000</td>\n      <td>0.004132</td>\n      <td>0.000000</td>\n      <td>0.000000</td>\n      <td>0.004132</td>\n      <td>0.004132</td>\n      <td>0.000000</td>\n      <td>0.004132</td>\n      <td>0.000000</td>\n      <td>0.000000</td>\n    </tr>\n    <tr>\n      <th>160</th>\n      <td>0.014682</td>\n      <td>0.001631</td>\n      <td>0.001631</td>\n      <td>0.004894</td>\n      <td>0.003263</td>\n      <td>0.006525</td>\n      <td>0.0</td>\n      <td>0.008157</td>\n      <td>0.006525</td>\n      <td>0.009788</td>\n      <td>...</td>\n      <td>0.000000</td>\n      <td>0.000000</td>\n      <td>0.001631</td>\n      <td>0.003263</td>\n      <td>0.001631</td>\n      <td>0.001631</td>\n      <td>0.003263</td>\n      <td>0.000000</td>\n      <td>0.000000</td>\n      <td>0.001631</td>\n    </tr>\n  </tbody>\n</table>\n<p>444 rows × 400 columns</p>\n</div>"
     },
     "execution_count": 42,
     "metadata": {},
     "output_type": "execute_result"
    }
   ],
   "source": [
    "X_train"
   ],
   "metadata": {
    "collapsed": false
   }
  },
  {
   "cell_type": "code",
   "execution_count": 45,
   "outputs": [],
   "source": [
    "from sklearn import svm\n",
    "\n",
    "clf = svm.SVC(decision_function_shape='ovo')"
   ],
   "metadata": {
    "collapsed": false
   }
  },
  {
   "cell_type": "code",
   "execution_count": 46,
   "outputs": [
    {
     "data": {
      "text/plain": "SVC(decision_function_shape='ovo')"
     },
     "execution_count": 46,
     "metadata": {},
     "output_type": "execute_result"
    }
   ],
   "source": [
    "clf.fit(X_train, y_train)"
   ],
   "metadata": {
    "collapsed": false
   }
  },
  {
   "cell_type": "code",
   "execution_count": 47,
   "outputs": [],
   "source": [
    "y_pred = clf.predict(X_test)"
   ],
   "metadata": {
    "collapsed": false
   }
  },
  {
   "cell_type": "code",
   "execution_count": 48,
   "outputs": [],
   "source": [
    "from sklearn.metrics import accuracy_score\n",
    "\n",
    "accuracy = accuracy_score(y_test, y_pred)"
   ],
   "metadata": {
    "collapsed": false
   }
  },
  {
   "cell_type": "code",
   "execution_count": 49,
   "outputs": [
    {
     "data": {
      "text/plain": "0.6071428571428571"
     },
     "execution_count": 49,
     "metadata": {},
     "output_type": "execute_result"
    }
   ],
   "source": [
    "accuracy"
   ],
   "metadata": {
    "collapsed": false
   }
  },
  {
   "cell_type": "code",
   "execution_count": null,
   "outputs": [],
   "source": [],
   "metadata": {
    "collapsed": false
   }
  }
 ],
 "metadata": {
  "kernelspec": {
   "display_name": "Python 3",
   "language": "python",
   "name": "python3"
  },
  "language_info": {
   "codemirror_mode": {
    "name": "ipython",
    "version": 2
   },
   "file_extension": ".py",
   "mimetype": "text/x-python",
   "name": "python",
   "nbconvert_exporter": "python",
   "pygments_lexer": "ipython2",
   "version": "2.7.6"
  }
 },
 "nbformat": 4,
 "nbformat_minor": 0
}
