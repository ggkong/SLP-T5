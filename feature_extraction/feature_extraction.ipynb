{
 "cells": [
  {
   "cell_type": "code",
   "execution_count": 1,
   "outputs": [],
   "source": [
    "from ProtT5 import readH5File\n",
    "import numpy as np\n",
    "from AAC import AAC\n",
    "from FileTools import readfasta\n",
    "from labelTools import labelList2Mutil, getTestLabel, getACCT5DF\n",
    "import pandas as pd\n",
    "from feature_extraction.DPC import DPC"
   ],
   "metadata": {
    "collapsed": false
   }
  },
  {
   "cell_type": "code",
   "execution_count": 2,
   "outputs": [],
   "source": [
    "# 训练集\n",
    "feature_1, label_list1 = readH5File(\"/home/kongge/projects/new_protT5/data/ProtT5/output1.h5\")\n",
    "feature_2, label_list2 = readH5File(\"/home/kongge/projects/new_protT5/data/ProtT5/output2.h5\")"
   ],
   "metadata": {
    "collapsed": false
   }
  },
  {
   "cell_type": "code",
   "execution_count": 3,
   "outputs": [],
   "source": [
    "label_578 = label_list1 + label_list2\n",
    "T5_578 = np.vstack((feature_1, feature_2))\n",
    "index_list, seq_list = readfasta(\"/home/kongge/projects/new_protT5/data/MSchlo578.fasta\")\n",
    "index_seq_dict = {index_list[i]: seq_list[i] for i in range(len(index_list))}\n",
    "seq_sorted_by_label578 = []\n",
    "for item in label_578:\n",
    "    seq_sorted_by_label578.append(index_seq_dict[item])"
   ],
   "metadata": {
    "collapsed": false
   }
  },
  {
   "cell_type": "code",
   "execution_count": 4,
   "outputs": [],
   "source": [
    "AAC_578 = np.array(AAC(seq_sorted_by_label578))"
   ],
   "metadata": {
    "collapsed": false
   }
  },
  {
   "cell_type": "code",
   "execution_count": 5,
   "outputs": [],
   "source": [
    "DPC_578 = np.array(DPC(seq_sorted_by_label578))"
   ],
   "metadata": {
    "collapsed": false
   }
  },
  {
   "cell_type": "code",
   "execution_count": 6,
   "outputs": [
    {
     "data": {
      "text/plain": "array([[0.        , 0.        , 0.        , ..., 0.        , 0.        ,\n        0.        ],\n       [0.0075188 , 0.        , 0.0075188 , ..., 0.        , 0.        ,\n        0.        ],\n       [0.        , 0.        , 0.        , ..., 0.        , 0.        ,\n        0.        ],\n       ...,\n       [0.        , 0.00456621, 0.00456621, ..., 0.        , 0.00456621,\n        0.00456621],\n       [0.01760563, 0.00352113, 0.        , ..., 0.00352113, 0.00352113,\n        0.00352113],\n       [0.00568182, 0.        , 0.00142045, ..., 0.        , 0.        ,\n        0.00142045]])"
     },
     "execution_count": 6,
     "metadata": {},
     "output_type": "execute_result"
    }
   ],
   "source": [
    "DPC_578"
   ],
   "metadata": {
    "collapsed": false
   }
  },
  {
   "cell_type": "code",
   "execution_count": 7,
   "outputs": [],
   "source": [
    "mutil_label_578 = labelList2Mutil(label_578)"
   ],
   "metadata": {
    "collapsed": false
   }
  },
  {
   "cell_type": "code",
   "execution_count": 8,
   "outputs": [],
   "source": [
    "AAC_DPC_T5_578 = np.hstack((AAC_578, DPC_578, T5_578))\n",
    "AAC_DPC_T5_578_df = pd.DataFrame(AAC_DPC_T5_578)"
   ],
   "metadata": {
    "collapsed": false
   }
  },
  {
   "cell_type": "code",
   "execution_count": 18,
   "outputs": [],
   "source": [
    "AAC_DPC_T5_578_df.to_csv(\"/home/kongge/projects/new_protT5/data/AAC_DPC_T5_578.csv\",index=False)"
   ],
   "metadata": {
    "collapsed": false
   }
  },
  {
   "cell_type": "code",
   "execution_count": 9,
   "outputs": [],
   "source": [
    "AAC_T5_578 = np.hstack((AAC_578, T5_578))"
   ],
   "metadata": {
    "collapsed": false
   }
  },
  {
   "cell_type": "code",
   "execution_count": 10,
   "outputs": [],
   "source": [
    "AAC_T5_578_df = pd.DataFrame(AAC_T5_578)"
   ],
   "metadata": {
    "collapsed": false
   }
  },
  {
   "cell_type": "code",
   "execution_count": 11,
   "outputs": [],
   "source": [
    "# AAC_T5_578_df.to_csv(\"/home/kongge/projects/new_protT5/data/ACC_T5_578.csv\", index=False)"
   ],
   "metadata": {
    "collapsed": false
   }
  },
  {
   "cell_type": "code",
   "execution_count": 12,
   "outputs": [],
   "source": [
    "# mutil_label_578.to_csv(\"/home/kongge/projects/new_protT5/data/mutil_label_578.csv\", index=False)"
   ],
   "metadata": {
    "collapsed": false
   }
  },
  {
   "cell_type": "code",
   "execution_count": 13,
   "outputs": [],
   "source": [
    "# 测试集"
   ],
   "metadata": {
    "collapsed": false
   }
  },
  {
   "cell_type": "code",
   "execution_count": 14,
   "outputs": [],
   "source": [
    "AAC_T5_envelope_122 = getACCT5DF(\"/home/kongge/projects/new_protT5/data/TestProtT5/envelope/per_protein_embeddings.h5\", \"/home/kongge/projects/new_protT5/data/Novel/new_envelope.fasta\")"
   ],
   "metadata": {
    "collapsed": false
   }
  },
  {
   "cell_type": "code",
   "execution_count": 15,
   "outputs": [],
   "source": [
    "AAC_T5_stroma_122 = getACCT5DF(\"/home/kongge/projects/new_protT5/data/TestProtT5/stroma/per_protein_embeddings.h5\", \"/home/kongge/projects/new_protT5/data/Novel/new_stroma.fasta\")"
   ],
   "metadata": {
    "collapsed": false
   }
  },
  {
   "cell_type": "code",
   "execution_count": 16,
   "outputs": [],
   "source": [
    "AAC_T5_lumen_122 = getACCT5DF(\"/home/kongge/projects/new_protT5/data/TestProtT5/lumen/per_protein_embeddings.h5\", \"/home/kongge/projects/new_protT5/data/Novel/new_thylakoid_lumen.fasta\")"
   ],
   "metadata": {
    "collapsed": false
   }
  },
  {
   "cell_type": "code",
   "execution_count": 17,
   "outputs": [],
   "source": [
    "AAC_T5_membrane_122 = getACCT5DF(\"/home/kongge/projects/new_protT5/data/TestProtT5/membrane/membrane.h5\", \"/home/kongge/projects/new_protT5/data/Novel/new_thylakoid_membrane.fasta\")"
   ],
   "metadata": {
    "collapsed": false
   }
  },
  {
   "cell_type": "code",
   "execution_count": 18,
   "outputs": [],
   "source": [
    "test_df = getTestLabel(AAC_T5_envelope_122, AAC_T5_lumen_122, AAC_T5_stroma_122, AAC_T5_membrane_122)"
   ],
   "metadata": {
    "collapsed": false
   }
  },
  {
   "cell_type": "code",
   "execution_count": 19,
   "outputs": [],
   "source": [
    "# test_df.to_csv(\"/home/kongge/projects/new_protT5/data/test_mutil_label_122.csv\", index=False)"
   ],
   "metadata": {
    "collapsed": false
   }
  },
  {
   "cell_type": "code",
   "execution_count": 7,
   "outputs": [],
   "source": [
    "DPC_T5_578 = np.hstack((DPC_578, T5_578))"
   ],
   "metadata": {
    "collapsed": false,
    "pycharm": {
     "name": "#%%d\n"
    }
   }
  },
  {
   "cell_type": "code",
   "execution_count": 8,
   "outputs": [],
   "source": [
    "DPC_T5_578_df = pd.DataFrame(DPC_T5_578)"
   ],
   "metadata": {
    "collapsed": false
   }
  },
  {
   "cell_type": "code",
   "execution_count": 9,
   "outputs": [
    {
     "data": {
      "text/plain": "         0         1         2         3         4         5        6     \\\n0    0.000000  0.000000  0.000000  0.000000  0.005525  0.005525  0.00000   \n1    0.007519  0.000000  0.007519  0.007519  0.000000  0.000000  0.00000   \n2    0.000000  0.000000  0.000000  0.011173  0.005587  0.005587  0.00000   \n3    0.000000  0.000000  0.005348  0.000000  0.005348  0.000000  0.00000   \n4    0.016304  0.000000  0.000000  0.021739  0.005435  0.005435  0.00000   \n..        ...       ...       ...       ...       ...       ...      ...   \n573  0.015789  0.000000  0.000000  0.005263  0.000000  0.000000  0.00000   \n574  0.000000  0.002075  0.002075  0.008299  0.006224  0.006224  0.00000   \n575  0.000000  0.004566  0.004566  0.000000  0.009132  0.004566  0.00000   \n576  0.017606  0.003521  0.000000  0.003521  0.000000  0.003521  0.00000   \n577  0.005682  0.000000  0.001420  0.004261  0.004261  0.001420  0.00142   \n\n         7         8         9     ...      1414      1415      1416  \\\n0    0.011050  0.005525  0.005525  ...  0.036818  0.026898  0.010529   \n1    0.000000  0.007519  0.015038  ...  0.050693  0.058083  0.040556   \n2    0.000000  0.005587  0.005587  ... -0.017891  0.025206  0.068204   \n3    0.000000  0.016043  0.005348  ... -0.005363  0.065209  0.039654   \n4    0.005435  0.016304  0.027174  ... -0.019232 -0.013705  0.001783   \n..        ...       ...       ...  ...       ...       ...       ...   \n573  0.000000  0.000000  0.005263  ... -0.082709 -0.038805  0.049082   \n574  0.002075  0.000000  0.010373  ...  0.005489 -0.021214 -0.028315   \n575  0.000000  0.000000  0.009132  ... -0.021107  0.007253  0.054399   \n576  0.010563  0.007042  0.007042  ... -0.052751 -0.001265  0.058449   \n577  0.000000  0.004261  0.007102  ... -0.046016  0.012317  0.004503   \n\n         1417      1418      1419      1420      1421      1422      1423  \n0   -0.087857  0.008474  0.021624  0.037671 -0.042609 -0.033987  0.001863  \n1   -0.099527 -0.021974  0.034129 -0.015654 -0.016042  0.018142  0.009868  \n2   -0.120173 -0.041826 -0.001013 -0.015208  0.003502  0.038556  0.032665  \n3   -0.100884  0.034206  0.002743 -0.040962  0.035129  0.013996  0.079778  \n4   -0.069890  0.016761  0.059995 -0.020010 -0.052366 -0.008041 -0.017827  \n..        ...       ...       ...       ...       ...       ...       ...  \n573 -0.072492  0.061679  0.055330 -0.054334  0.022155  0.081683  0.008963  \n574 -0.027093  0.051935  0.024115 -0.000847  0.049707 -0.002306  0.000640  \n575 -0.098169  0.005296  0.016531  0.015466 -0.041228  0.019770 -0.002437  \n576 -0.104947  0.083710  0.017370 -0.021055  0.059610  0.035077  0.055231  \n577 -0.048036  0.045243  0.020221  0.018960  0.008882  0.032990  0.021255  \n\n[578 rows x 1424 columns]",
      "text/html": "<div>\n<style scoped>\n    .dataframe tbody tr th:only-of-type {\n        vertical-align: middle;\n    }\n\n    .dataframe tbody tr th {\n        vertical-align: top;\n    }\n\n    .dataframe thead th {\n        text-align: right;\n    }\n</style>\n<table border=\"1\" class=\"dataframe\">\n  <thead>\n    <tr style=\"text-align: right;\">\n      <th></th>\n      <th>0</th>\n      <th>1</th>\n      <th>2</th>\n      <th>3</th>\n      <th>4</th>\n      <th>5</th>\n      <th>6</th>\n      <th>7</th>\n      <th>8</th>\n      <th>9</th>\n      <th>...</th>\n      <th>1414</th>\n      <th>1415</th>\n      <th>1416</th>\n      <th>1417</th>\n      <th>1418</th>\n      <th>1419</th>\n      <th>1420</th>\n      <th>1421</th>\n      <th>1422</th>\n      <th>1423</th>\n    </tr>\n  </thead>\n  <tbody>\n    <tr>\n      <th>0</th>\n      <td>0.000000</td>\n      <td>0.000000</td>\n      <td>0.000000</td>\n      <td>0.000000</td>\n      <td>0.005525</td>\n      <td>0.005525</td>\n      <td>0.00000</td>\n      <td>0.011050</td>\n      <td>0.005525</td>\n      <td>0.005525</td>\n      <td>...</td>\n      <td>0.036818</td>\n      <td>0.026898</td>\n      <td>0.010529</td>\n      <td>-0.087857</td>\n      <td>0.008474</td>\n      <td>0.021624</td>\n      <td>0.037671</td>\n      <td>-0.042609</td>\n      <td>-0.033987</td>\n      <td>0.001863</td>\n    </tr>\n    <tr>\n      <th>1</th>\n      <td>0.007519</td>\n      <td>0.000000</td>\n      <td>0.007519</td>\n      <td>0.007519</td>\n      <td>0.000000</td>\n      <td>0.000000</td>\n      <td>0.00000</td>\n      <td>0.000000</td>\n      <td>0.007519</td>\n      <td>0.015038</td>\n      <td>...</td>\n      <td>0.050693</td>\n      <td>0.058083</td>\n      <td>0.040556</td>\n      <td>-0.099527</td>\n      <td>-0.021974</td>\n      <td>0.034129</td>\n      <td>-0.015654</td>\n      <td>-0.016042</td>\n      <td>0.018142</td>\n      <td>0.009868</td>\n    </tr>\n    <tr>\n      <th>2</th>\n      <td>0.000000</td>\n      <td>0.000000</td>\n      <td>0.000000</td>\n      <td>0.011173</td>\n      <td>0.005587</td>\n      <td>0.005587</td>\n      <td>0.00000</td>\n      <td>0.000000</td>\n      <td>0.005587</td>\n      <td>0.005587</td>\n      <td>...</td>\n      <td>-0.017891</td>\n      <td>0.025206</td>\n      <td>0.068204</td>\n      <td>-0.120173</td>\n      <td>-0.041826</td>\n      <td>-0.001013</td>\n      <td>-0.015208</td>\n      <td>0.003502</td>\n      <td>0.038556</td>\n      <td>0.032665</td>\n    </tr>\n    <tr>\n      <th>3</th>\n      <td>0.000000</td>\n      <td>0.000000</td>\n      <td>0.005348</td>\n      <td>0.000000</td>\n      <td>0.005348</td>\n      <td>0.000000</td>\n      <td>0.00000</td>\n      <td>0.000000</td>\n      <td>0.016043</td>\n      <td>0.005348</td>\n      <td>...</td>\n      <td>-0.005363</td>\n      <td>0.065209</td>\n      <td>0.039654</td>\n      <td>-0.100884</td>\n      <td>0.034206</td>\n      <td>0.002743</td>\n      <td>-0.040962</td>\n      <td>0.035129</td>\n      <td>0.013996</td>\n      <td>0.079778</td>\n    </tr>\n    <tr>\n      <th>4</th>\n      <td>0.016304</td>\n      <td>0.000000</td>\n      <td>0.000000</td>\n      <td>0.021739</td>\n      <td>0.005435</td>\n      <td>0.005435</td>\n      <td>0.00000</td>\n      <td>0.005435</td>\n      <td>0.016304</td>\n      <td>0.027174</td>\n      <td>...</td>\n      <td>-0.019232</td>\n      <td>-0.013705</td>\n      <td>0.001783</td>\n      <td>-0.069890</td>\n      <td>0.016761</td>\n      <td>0.059995</td>\n      <td>-0.020010</td>\n      <td>-0.052366</td>\n      <td>-0.008041</td>\n      <td>-0.017827</td>\n    </tr>\n    <tr>\n      <th>...</th>\n      <td>...</td>\n      <td>...</td>\n      <td>...</td>\n      <td>...</td>\n      <td>...</td>\n      <td>...</td>\n      <td>...</td>\n      <td>...</td>\n      <td>...</td>\n      <td>...</td>\n      <td>...</td>\n      <td>...</td>\n      <td>...</td>\n      <td>...</td>\n      <td>...</td>\n      <td>...</td>\n      <td>...</td>\n      <td>...</td>\n      <td>...</td>\n      <td>...</td>\n      <td>...</td>\n    </tr>\n    <tr>\n      <th>573</th>\n      <td>0.015789</td>\n      <td>0.000000</td>\n      <td>0.000000</td>\n      <td>0.005263</td>\n      <td>0.000000</td>\n      <td>0.000000</td>\n      <td>0.00000</td>\n      <td>0.000000</td>\n      <td>0.000000</td>\n      <td>0.005263</td>\n      <td>...</td>\n      <td>-0.082709</td>\n      <td>-0.038805</td>\n      <td>0.049082</td>\n      <td>-0.072492</td>\n      <td>0.061679</td>\n      <td>0.055330</td>\n      <td>-0.054334</td>\n      <td>0.022155</td>\n      <td>0.081683</td>\n      <td>0.008963</td>\n    </tr>\n    <tr>\n      <th>574</th>\n      <td>0.000000</td>\n      <td>0.002075</td>\n      <td>0.002075</td>\n      <td>0.008299</td>\n      <td>0.006224</td>\n      <td>0.006224</td>\n      <td>0.00000</td>\n      <td>0.002075</td>\n      <td>0.000000</td>\n      <td>0.010373</td>\n      <td>...</td>\n      <td>0.005489</td>\n      <td>-0.021214</td>\n      <td>-0.028315</td>\n      <td>-0.027093</td>\n      <td>0.051935</td>\n      <td>0.024115</td>\n      <td>-0.000847</td>\n      <td>0.049707</td>\n      <td>-0.002306</td>\n      <td>0.000640</td>\n    </tr>\n    <tr>\n      <th>575</th>\n      <td>0.000000</td>\n      <td>0.004566</td>\n      <td>0.004566</td>\n      <td>0.000000</td>\n      <td>0.009132</td>\n      <td>0.004566</td>\n      <td>0.00000</td>\n      <td>0.000000</td>\n      <td>0.000000</td>\n      <td>0.009132</td>\n      <td>...</td>\n      <td>-0.021107</td>\n      <td>0.007253</td>\n      <td>0.054399</td>\n      <td>-0.098169</td>\n      <td>0.005296</td>\n      <td>0.016531</td>\n      <td>0.015466</td>\n      <td>-0.041228</td>\n      <td>0.019770</td>\n      <td>-0.002437</td>\n    </tr>\n    <tr>\n      <th>576</th>\n      <td>0.017606</td>\n      <td>0.003521</td>\n      <td>0.000000</td>\n      <td>0.003521</td>\n      <td>0.000000</td>\n      <td>0.003521</td>\n      <td>0.00000</td>\n      <td>0.010563</td>\n      <td>0.007042</td>\n      <td>0.007042</td>\n      <td>...</td>\n      <td>-0.052751</td>\n      <td>-0.001265</td>\n      <td>0.058449</td>\n      <td>-0.104947</td>\n      <td>0.083710</td>\n      <td>0.017370</td>\n      <td>-0.021055</td>\n      <td>0.059610</td>\n      <td>0.035077</td>\n      <td>0.055231</td>\n    </tr>\n    <tr>\n      <th>577</th>\n      <td>0.005682</td>\n      <td>0.000000</td>\n      <td>0.001420</td>\n      <td>0.004261</td>\n      <td>0.004261</td>\n      <td>0.001420</td>\n      <td>0.00142</td>\n      <td>0.000000</td>\n      <td>0.004261</td>\n      <td>0.007102</td>\n      <td>...</td>\n      <td>-0.046016</td>\n      <td>0.012317</td>\n      <td>0.004503</td>\n      <td>-0.048036</td>\n      <td>0.045243</td>\n      <td>0.020221</td>\n      <td>0.018960</td>\n      <td>0.008882</td>\n      <td>0.032990</td>\n      <td>0.021255</td>\n    </tr>\n  </tbody>\n</table>\n<p>578 rows × 1424 columns</p>\n</div>"
     },
     "execution_count": 9,
     "metadata": {},
     "output_type": "execute_result"
    }
   ],
   "source": [
    "DPC_T5_578_df"
   ],
   "metadata": {
    "collapsed": false
   }
  },
  {
   "cell_type": "code",
   "execution_count": 10,
   "outputs": [],
   "source": [
    "DPC_T5_578_df.to_csv(\"/home/kongge/projects/new_protT5/data/DPC_T5_578_right.csv\", index=False)"
   ],
   "metadata": {
    "collapsed": false
   }
  },
  {
   "cell_type": "code",
   "execution_count": 10,
   "outputs": [],
   "source": [
    "from feature_extraction.labelTools import getDPCT5DF\n",
    "\n",
    "DPC_T5_envelope_122 = getDPCT5DF(\"/home/kongge/projects/new_protT5/data/TestProtT5/envelope/per_protein_embeddings.h5\", \"/home/kongge/projects/new_protT5/data/Novel/new_envelope.fasta\")\n",
    "DPC_T5_stroma_122 = getDPCT5DF(\"/home/kongge/projects/new_protT5/data/TestProtT5/stroma/per_protein_embeddings.h5\", \"/home/kongge/projects/new_protT5/data/Novel/new_stroma.fasta\")\n",
    "DPC_T5_lumen_122 = getDPCT5DF(\"/home/kongge/projects/new_protT5/data/TestProtT5/lumen/per_protein_embeddings.h5\", \"/home/kongge/projects/new_protT5/data/Novel/new_thylakoid_lumen.fasta\")\n",
    "DPC_T5_membrane_122 = getDPCT5DF(\"/home/kongge/projects/new_protT5/data/TestProtT5/membrane/membrane.h5\", \"/home/kongge/projects/new_protT5/data/Novel/new_thylakoid_membrane.fasta\")"
   ],
   "metadata": {
    "collapsed": false
   }
  },
  {
   "cell_type": "code",
   "execution_count": 11,
   "outputs": [],
   "source": [
    "from feature_extraction.labelTools import getTestLabelByFeatureNum\n",
    "\n",
    "test_df = getTestLabelByFeatureNum(DPC_T5_envelope_122, DPC_T5_lumen_122, DPC_T5_stroma_122, DPC_T5_membrane_122,feature_num=1424)"
   ],
   "metadata": {
    "collapsed": false
   }
  },
  {
   "cell_type": "code",
   "execution_count": 12,
   "outputs": [
    {
     "data": {
      "text/plain": "         0      1       2       3       4       5       6       7       8  \\\n13  0.0000  0.000  0.0000  0.0000  0.0000  0.0025  0.0000  0.0000  0.0025   \n52  0.0000  0.000  0.0000  0.0000  0.0000  0.0025  0.0000  0.0000  0.0050   \n21  0.0000  0.000  0.0000  0.0000  0.0050  0.0000  0.0000  0.0000  0.0000   \n20  0.0000  0.000  0.0000  0.0050  0.0000  0.0050  0.0025  0.0025  0.0000   \n18  0.0000  0.000  0.0000  0.0050  0.0025  0.0000  0.0000  0.0025  0.0025   \n..     ...    ...     ...     ...     ...     ...     ...     ...     ...   \n7   0.0275  0.000  0.0025  0.0025  0.0050  0.0100  0.0025  0.0125  0.0050   \n22  0.0300  0.000  0.0025  0.0025  0.0050  0.0100  0.0025  0.0125  0.0050   \n27  0.0325  0.000  0.0075  0.0025  0.0075  0.0100  0.0000  0.0100  0.0100   \n33  0.0425  0.005  0.0025  0.0050  0.0075  0.0100  0.0000  0.0100  0.0050   \n0   0.0450  0.000  0.0025  0.0100  0.0050  0.0175  0.0000  0.0025  0.0175   \n\n         9  ...      1418      1419      1420      1421      1422      1423  \\\n13  0.0000  ...  0.051092  0.042379 -0.059745  0.079686  0.078795  0.004532   \n52  0.0075  ...  0.047438  0.038610 -0.019228  0.011324  0.054668  0.048063   \n21  0.0025  ...  0.045609  0.049335  0.039549  0.030308  0.093880  0.024301   \n20  0.0050  ...  0.048885  0.043662  0.037665 -0.006058  0.090427  0.025554   \n18  0.0025  ...  0.063327  0.069721 -0.024712  0.043097  0.005987 -0.021683   \n..     ...  ...       ...       ...       ...       ...       ...       ...   \n7   0.0075  ...  0.048724  0.033199 -0.033802 -0.011301  0.034834  0.019000   \n22  0.0075  ...  0.049061  0.030839 -0.034451 -0.012577  0.035503  0.020395   \n27  0.0075  ...  0.011627  0.014389 -0.025482  0.008965  0.035627  0.016016   \n33  0.0175  ...  0.032992  0.007669 -0.023410 -0.014307  0.030989  0.029679   \n0   0.0200  ...  0.009628  0.003707 -0.049499 -0.035634 -0.022517  0.066240   \n\n    envelope  lumen  stroma  thylakoid_membrane  \n13         0      0       1                   0  \n52         1      0       0                   0  \n21         0      0       0                   1  \n20         0      0       0                   1  \n18         0      0       0                   1  \n..       ...    ...     ...                 ...  \n7          1      0       0                   0  \n22         1      0       0                   0  \n27         1      0       0                   0  \n33         1      0       0                   0  \n0          0      0       0                   1  \n\n[131 rows x 1428 columns]",
      "text/html": "<div>\n<style scoped>\n    .dataframe tbody tr th:only-of-type {\n        vertical-align: middle;\n    }\n\n    .dataframe tbody tr th {\n        vertical-align: top;\n    }\n\n    .dataframe thead th {\n        text-align: right;\n    }\n</style>\n<table border=\"1\" class=\"dataframe\">\n  <thead>\n    <tr style=\"text-align: right;\">\n      <th></th>\n      <th>0</th>\n      <th>1</th>\n      <th>2</th>\n      <th>3</th>\n      <th>4</th>\n      <th>5</th>\n      <th>6</th>\n      <th>7</th>\n      <th>8</th>\n      <th>9</th>\n      <th>...</th>\n      <th>1418</th>\n      <th>1419</th>\n      <th>1420</th>\n      <th>1421</th>\n      <th>1422</th>\n      <th>1423</th>\n      <th>envelope</th>\n      <th>lumen</th>\n      <th>stroma</th>\n      <th>thylakoid_membrane</th>\n    </tr>\n  </thead>\n  <tbody>\n    <tr>\n      <th>13</th>\n      <td>0.0000</td>\n      <td>0.000</td>\n      <td>0.0000</td>\n      <td>0.0000</td>\n      <td>0.0000</td>\n      <td>0.0025</td>\n      <td>0.0000</td>\n      <td>0.0000</td>\n      <td>0.0025</td>\n      <td>0.0000</td>\n      <td>...</td>\n      <td>0.051092</td>\n      <td>0.042379</td>\n      <td>-0.059745</td>\n      <td>0.079686</td>\n      <td>0.078795</td>\n      <td>0.004532</td>\n      <td>0</td>\n      <td>0</td>\n      <td>1</td>\n      <td>0</td>\n    </tr>\n    <tr>\n      <th>52</th>\n      <td>0.0000</td>\n      <td>0.000</td>\n      <td>0.0000</td>\n      <td>0.0000</td>\n      <td>0.0000</td>\n      <td>0.0025</td>\n      <td>0.0000</td>\n      <td>0.0000</td>\n      <td>0.0050</td>\n      <td>0.0075</td>\n      <td>...</td>\n      <td>0.047438</td>\n      <td>0.038610</td>\n      <td>-0.019228</td>\n      <td>0.011324</td>\n      <td>0.054668</td>\n      <td>0.048063</td>\n      <td>1</td>\n      <td>0</td>\n      <td>0</td>\n      <td>0</td>\n    </tr>\n    <tr>\n      <th>21</th>\n      <td>0.0000</td>\n      <td>0.000</td>\n      <td>0.0000</td>\n      <td>0.0000</td>\n      <td>0.0050</td>\n      <td>0.0000</td>\n      <td>0.0000</td>\n      <td>0.0000</td>\n      <td>0.0000</td>\n      <td>0.0025</td>\n      <td>...</td>\n      <td>0.045609</td>\n      <td>0.049335</td>\n      <td>0.039549</td>\n      <td>0.030308</td>\n      <td>0.093880</td>\n      <td>0.024301</td>\n      <td>0</td>\n      <td>0</td>\n      <td>0</td>\n      <td>1</td>\n    </tr>\n    <tr>\n      <th>20</th>\n      <td>0.0000</td>\n      <td>0.000</td>\n      <td>0.0000</td>\n      <td>0.0050</td>\n      <td>0.0000</td>\n      <td>0.0050</td>\n      <td>0.0025</td>\n      <td>0.0025</td>\n      <td>0.0000</td>\n      <td>0.0050</td>\n      <td>...</td>\n      <td>0.048885</td>\n      <td>0.043662</td>\n      <td>0.037665</td>\n      <td>-0.006058</td>\n      <td>0.090427</td>\n      <td>0.025554</td>\n      <td>0</td>\n      <td>0</td>\n      <td>0</td>\n      <td>1</td>\n    </tr>\n    <tr>\n      <th>18</th>\n      <td>0.0000</td>\n      <td>0.000</td>\n      <td>0.0000</td>\n      <td>0.0050</td>\n      <td>0.0025</td>\n      <td>0.0000</td>\n      <td>0.0000</td>\n      <td>0.0025</td>\n      <td>0.0025</td>\n      <td>0.0025</td>\n      <td>...</td>\n      <td>0.063327</td>\n      <td>0.069721</td>\n      <td>-0.024712</td>\n      <td>0.043097</td>\n      <td>0.005987</td>\n      <td>-0.021683</td>\n      <td>0</td>\n      <td>0</td>\n      <td>0</td>\n      <td>1</td>\n    </tr>\n    <tr>\n      <th>...</th>\n      <td>...</td>\n      <td>...</td>\n      <td>...</td>\n      <td>...</td>\n      <td>...</td>\n      <td>...</td>\n      <td>...</td>\n      <td>...</td>\n      <td>...</td>\n      <td>...</td>\n      <td>...</td>\n      <td>...</td>\n      <td>...</td>\n      <td>...</td>\n      <td>...</td>\n      <td>...</td>\n      <td>...</td>\n      <td>...</td>\n      <td>...</td>\n      <td>...</td>\n      <td>...</td>\n    </tr>\n    <tr>\n      <th>7</th>\n      <td>0.0275</td>\n      <td>0.000</td>\n      <td>0.0025</td>\n      <td>0.0025</td>\n      <td>0.0050</td>\n      <td>0.0100</td>\n      <td>0.0025</td>\n      <td>0.0125</td>\n      <td>0.0050</td>\n      <td>0.0075</td>\n      <td>...</td>\n      <td>0.048724</td>\n      <td>0.033199</td>\n      <td>-0.033802</td>\n      <td>-0.011301</td>\n      <td>0.034834</td>\n      <td>0.019000</td>\n      <td>1</td>\n      <td>0</td>\n      <td>0</td>\n      <td>0</td>\n    </tr>\n    <tr>\n      <th>22</th>\n      <td>0.0300</td>\n      <td>0.000</td>\n      <td>0.0025</td>\n      <td>0.0025</td>\n      <td>0.0050</td>\n      <td>0.0100</td>\n      <td>0.0025</td>\n      <td>0.0125</td>\n      <td>0.0050</td>\n      <td>0.0075</td>\n      <td>...</td>\n      <td>0.049061</td>\n      <td>0.030839</td>\n      <td>-0.034451</td>\n      <td>-0.012577</td>\n      <td>0.035503</td>\n      <td>0.020395</td>\n      <td>1</td>\n      <td>0</td>\n      <td>0</td>\n      <td>0</td>\n    </tr>\n    <tr>\n      <th>27</th>\n      <td>0.0325</td>\n      <td>0.000</td>\n      <td>0.0075</td>\n      <td>0.0025</td>\n      <td>0.0075</td>\n      <td>0.0100</td>\n      <td>0.0000</td>\n      <td>0.0100</td>\n      <td>0.0100</td>\n      <td>0.0075</td>\n      <td>...</td>\n      <td>0.011627</td>\n      <td>0.014389</td>\n      <td>-0.025482</td>\n      <td>0.008965</td>\n      <td>0.035627</td>\n      <td>0.016016</td>\n      <td>1</td>\n      <td>0</td>\n      <td>0</td>\n      <td>0</td>\n    </tr>\n    <tr>\n      <th>33</th>\n      <td>0.0425</td>\n      <td>0.005</td>\n      <td>0.0025</td>\n      <td>0.0050</td>\n      <td>0.0075</td>\n      <td>0.0100</td>\n      <td>0.0000</td>\n      <td>0.0100</td>\n      <td>0.0050</td>\n      <td>0.0175</td>\n      <td>...</td>\n      <td>0.032992</td>\n      <td>0.007669</td>\n      <td>-0.023410</td>\n      <td>-0.014307</td>\n      <td>0.030989</td>\n      <td>0.029679</td>\n      <td>1</td>\n      <td>0</td>\n      <td>0</td>\n      <td>0</td>\n    </tr>\n    <tr>\n      <th>0</th>\n      <td>0.0450</td>\n      <td>0.000</td>\n      <td>0.0025</td>\n      <td>0.0100</td>\n      <td>0.0050</td>\n      <td>0.0175</td>\n      <td>0.0000</td>\n      <td>0.0025</td>\n      <td>0.0175</td>\n      <td>0.0200</td>\n      <td>...</td>\n      <td>0.009628</td>\n      <td>0.003707</td>\n      <td>-0.049499</td>\n      <td>-0.035634</td>\n      <td>-0.022517</td>\n      <td>0.066240</td>\n      <td>0</td>\n      <td>0</td>\n      <td>0</td>\n      <td>1</td>\n    </tr>\n  </tbody>\n</table>\n<p>131 rows × 1428 columns</p>\n</div>"
     },
     "execution_count": 12,
     "metadata": {},
     "output_type": "execute_result"
    }
   ],
   "source": [
    "test_df"
   ],
   "metadata": {
    "collapsed": false
   }
  },
  {
   "cell_type": "code",
   "execution_count": 13,
   "outputs": [],
   "source": [
    "test_df.to_csv(\"/home/kongge/projects/new_protT5/data/DPC_T5_test_mutil_label_122_newDPC2.csv\", index=False)"
   ],
   "metadata": {
    "collapsed": false
   }
  },
  {
   "cell_type": "code",
   "execution_count": 33,
   "outputs": [],
   "source": [
    "# only_T5\n",
    "label_578 = label_list1 + label_list2\n",
    "T5_578 = np.vstack((feature_1, feature_2))"
   ],
   "metadata": {
    "collapsed": false
   }
  },
  {
   "cell_type": "code",
   "execution_count": 34,
   "outputs": [],
   "source": [
    "T5_578_df = pd.DataFrame(T5_578)"
   ],
   "metadata": {
    "collapsed": false
   }
  },
  {
   "cell_type": "code",
   "execution_count": 35,
   "outputs": [
    {
     "data": {
      "text/plain": "         0         1         2         3         4         5         6     \\\n0    0.011855 -0.032746 -0.023757 -0.023665 -0.033727  0.048575 -0.015899   \n1    0.019022  0.004299 -0.024378 -0.042201 -0.006650 -0.001646 -0.096798   \n2    0.047019 -0.120785 -0.042175  0.020348 -0.025062  0.018701  0.000367   \n3    0.002536 -0.061242 -0.074585  0.025001 -0.026253  0.032153 -0.015998   \n4    0.027752 -0.038239 -0.030748  0.010573  0.031580 -0.011930 -0.011903   \n..        ...       ...       ...       ...       ...       ...       ...   \n573  0.040030 -0.008674 -0.011087 -0.019770  0.016468  0.065464 -0.010812   \n574  0.009832  0.024792  0.005438 -0.008085  0.020130  0.007552 -0.046812   \n575  0.036475  0.054620 -0.016611  0.002231  0.023267 -0.009294  0.005391   \n576 -0.029206 -0.013911 -0.023848  0.002382 -0.007953  0.083591  0.022054   \n577  0.030201  0.027374  0.041854  0.000519  0.031639  0.027814 -0.015174   \n\n         7         8         9     ...      1014      1015      1016  \\\n0   -0.030309  0.027778 -0.007211  ...  0.036818  0.026898  0.010529   \n1   -0.108745  0.049381 -0.005824  ...  0.050693  0.058083  0.040556   \n2   -0.056713  0.048554 -0.100459  ... -0.017891  0.025206  0.068204   \n3   -0.118994  0.093034  0.000788  ... -0.005363  0.065209  0.039654   \n4   -0.011416  0.043877 -0.068397  ... -0.019232 -0.013705  0.001783   \n..        ...       ...       ...  ...       ...       ...       ...   \n573 -0.066422  0.072414  0.004483  ... -0.082709 -0.038805  0.049082   \n574 -0.077003  0.046260 -0.009279  ...  0.005489 -0.021214 -0.028315   \n575  0.026440 -0.014062 -0.084945  ... -0.021107  0.007253  0.054399   \n576 -0.068305  0.018597 -0.008140  ... -0.052751 -0.001265  0.058449   \n577 -0.013031  0.040336  0.003246  ... -0.046016  0.012317  0.004503   \n\n         1017      1018      1019      1020      1021      1022      1023  \n0   -0.087857  0.008474  0.021624  0.037671 -0.042609 -0.033987  0.001863  \n1   -0.099527 -0.021974  0.034129 -0.015654 -0.016042  0.018142  0.009868  \n2   -0.120173 -0.041826 -0.001013 -0.015208  0.003502  0.038556  0.032665  \n3   -0.100884  0.034206  0.002743 -0.040962  0.035129  0.013996  0.079778  \n4   -0.069890  0.016761  0.059995 -0.020010 -0.052366 -0.008041 -0.017827  \n..        ...       ...       ...       ...       ...       ...       ...  \n573 -0.072492  0.061679  0.055330 -0.054334  0.022155  0.081683  0.008963  \n574 -0.027093  0.051935  0.024115 -0.000847  0.049707 -0.002306  0.000640  \n575 -0.098169  0.005296  0.016531  0.015466 -0.041228  0.019770 -0.002437  \n576 -0.104947  0.083710  0.017370 -0.021055  0.059610  0.035077  0.055231  \n577 -0.048036  0.045243  0.020221  0.018960  0.008882  0.032990  0.021255  \n\n[578 rows x 1024 columns]",
      "text/html": "<div>\n<style scoped>\n    .dataframe tbody tr th:only-of-type {\n        vertical-align: middle;\n    }\n\n    .dataframe tbody tr th {\n        vertical-align: top;\n    }\n\n    .dataframe thead th {\n        text-align: right;\n    }\n</style>\n<table border=\"1\" class=\"dataframe\">\n  <thead>\n    <tr style=\"text-align: right;\">\n      <th></th>\n      <th>0</th>\n      <th>1</th>\n      <th>2</th>\n      <th>3</th>\n      <th>4</th>\n      <th>5</th>\n      <th>6</th>\n      <th>7</th>\n      <th>8</th>\n      <th>9</th>\n      <th>...</th>\n      <th>1014</th>\n      <th>1015</th>\n      <th>1016</th>\n      <th>1017</th>\n      <th>1018</th>\n      <th>1019</th>\n      <th>1020</th>\n      <th>1021</th>\n      <th>1022</th>\n      <th>1023</th>\n    </tr>\n  </thead>\n  <tbody>\n    <tr>\n      <th>0</th>\n      <td>0.011855</td>\n      <td>-0.032746</td>\n      <td>-0.023757</td>\n      <td>-0.023665</td>\n      <td>-0.033727</td>\n      <td>0.048575</td>\n      <td>-0.015899</td>\n      <td>-0.030309</td>\n      <td>0.027778</td>\n      <td>-0.007211</td>\n      <td>...</td>\n      <td>0.036818</td>\n      <td>0.026898</td>\n      <td>0.010529</td>\n      <td>-0.087857</td>\n      <td>0.008474</td>\n      <td>0.021624</td>\n      <td>0.037671</td>\n      <td>-0.042609</td>\n      <td>-0.033987</td>\n      <td>0.001863</td>\n    </tr>\n    <tr>\n      <th>1</th>\n      <td>0.019022</td>\n      <td>0.004299</td>\n      <td>-0.024378</td>\n      <td>-0.042201</td>\n      <td>-0.006650</td>\n      <td>-0.001646</td>\n      <td>-0.096798</td>\n      <td>-0.108745</td>\n      <td>0.049381</td>\n      <td>-0.005824</td>\n      <td>...</td>\n      <td>0.050693</td>\n      <td>0.058083</td>\n      <td>0.040556</td>\n      <td>-0.099527</td>\n      <td>-0.021974</td>\n      <td>0.034129</td>\n      <td>-0.015654</td>\n      <td>-0.016042</td>\n      <td>0.018142</td>\n      <td>0.009868</td>\n    </tr>\n    <tr>\n      <th>2</th>\n      <td>0.047019</td>\n      <td>-0.120785</td>\n      <td>-0.042175</td>\n      <td>0.020348</td>\n      <td>-0.025062</td>\n      <td>0.018701</td>\n      <td>0.000367</td>\n      <td>-0.056713</td>\n      <td>0.048554</td>\n      <td>-0.100459</td>\n      <td>...</td>\n      <td>-0.017891</td>\n      <td>0.025206</td>\n      <td>0.068204</td>\n      <td>-0.120173</td>\n      <td>-0.041826</td>\n      <td>-0.001013</td>\n      <td>-0.015208</td>\n      <td>0.003502</td>\n      <td>0.038556</td>\n      <td>0.032665</td>\n    </tr>\n    <tr>\n      <th>3</th>\n      <td>0.002536</td>\n      <td>-0.061242</td>\n      <td>-0.074585</td>\n      <td>0.025001</td>\n      <td>-0.026253</td>\n      <td>0.032153</td>\n      <td>-0.015998</td>\n      <td>-0.118994</td>\n      <td>0.093034</td>\n      <td>0.000788</td>\n      <td>...</td>\n      <td>-0.005363</td>\n      <td>0.065209</td>\n      <td>0.039654</td>\n      <td>-0.100884</td>\n      <td>0.034206</td>\n      <td>0.002743</td>\n      <td>-0.040962</td>\n      <td>0.035129</td>\n      <td>0.013996</td>\n      <td>0.079778</td>\n    </tr>\n    <tr>\n      <th>4</th>\n      <td>0.027752</td>\n      <td>-0.038239</td>\n      <td>-0.030748</td>\n      <td>0.010573</td>\n      <td>0.031580</td>\n      <td>-0.011930</td>\n      <td>-0.011903</td>\n      <td>-0.011416</td>\n      <td>0.043877</td>\n      <td>-0.068397</td>\n      <td>...</td>\n      <td>-0.019232</td>\n      <td>-0.013705</td>\n      <td>0.001783</td>\n      <td>-0.069890</td>\n      <td>0.016761</td>\n      <td>0.059995</td>\n      <td>-0.020010</td>\n      <td>-0.052366</td>\n      <td>-0.008041</td>\n      <td>-0.017827</td>\n    </tr>\n    <tr>\n      <th>...</th>\n      <td>...</td>\n      <td>...</td>\n      <td>...</td>\n      <td>...</td>\n      <td>...</td>\n      <td>...</td>\n      <td>...</td>\n      <td>...</td>\n      <td>...</td>\n      <td>...</td>\n      <td>...</td>\n      <td>...</td>\n      <td>...</td>\n      <td>...</td>\n      <td>...</td>\n      <td>...</td>\n      <td>...</td>\n      <td>...</td>\n      <td>...</td>\n      <td>...</td>\n      <td>...</td>\n    </tr>\n    <tr>\n      <th>573</th>\n      <td>0.040030</td>\n      <td>-0.008674</td>\n      <td>-0.011087</td>\n      <td>-0.019770</td>\n      <td>0.016468</td>\n      <td>0.065464</td>\n      <td>-0.010812</td>\n      <td>-0.066422</td>\n      <td>0.072414</td>\n      <td>0.004483</td>\n      <td>...</td>\n      <td>-0.082709</td>\n      <td>-0.038805</td>\n      <td>0.049082</td>\n      <td>-0.072492</td>\n      <td>0.061679</td>\n      <td>0.055330</td>\n      <td>-0.054334</td>\n      <td>0.022155</td>\n      <td>0.081683</td>\n      <td>0.008963</td>\n    </tr>\n    <tr>\n      <th>574</th>\n      <td>0.009832</td>\n      <td>0.024792</td>\n      <td>0.005438</td>\n      <td>-0.008085</td>\n      <td>0.020130</td>\n      <td>0.007552</td>\n      <td>-0.046812</td>\n      <td>-0.077003</td>\n      <td>0.046260</td>\n      <td>-0.009279</td>\n      <td>...</td>\n      <td>0.005489</td>\n      <td>-0.021214</td>\n      <td>-0.028315</td>\n      <td>-0.027093</td>\n      <td>0.051935</td>\n      <td>0.024115</td>\n      <td>-0.000847</td>\n      <td>0.049707</td>\n      <td>-0.002306</td>\n      <td>0.000640</td>\n    </tr>\n    <tr>\n      <th>575</th>\n      <td>0.036475</td>\n      <td>0.054620</td>\n      <td>-0.016611</td>\n      <td>0.002231</td>\n      <td>0.023267</td>\n      <td>-0.009294</td>\n      <td>0.005391</td>\n      <td>0.026440</td>\n      <td>-0.014062</td>\n      <td>-0.084945</td>\n      <td>...</td>\n      <td>-0.021107</td>\n      <td>0.007253</td>\n      <td>0.054399</td>\n      <td>-0.098169</td>\n      <td>0.005296</td>\n      <td>0.016531</td>\n      <td>0.015466</td>\n      <td>-0.041228</td>\n      <td>0.019770</td>\n      <td>-0.002437</td>\n    </tr>\n    <tr>\n      <th>576</th>\n      <td>-0.029206</td>\n      <td>-0.013911</td>\n      <td>-0.023848</td>\n      <td>0.002382</td>\n      <td>-0.007953</td>\n      <td>0.083591</td>\n      <td>0.022054</td>\n      <td>-0.068305</td>\n      <td>0.018597</td>\n      <td>-0.008140</td>\n      <td>...</td>\n      <td>-0.052751</td>\n      <td>-0.001265</td>\n      <td>0.058449</td>\n      <td>-0.104947</td>\n      <td>0.083710</td>\n      <td>0.017370</td>\n      <td>-0.021055</td>\n      <td>0.059610</td>\n      <td>0.035077</td>\n      <td>0.055231</td>\n    </tr>\n    <tr>\n      <th>577</th>\n      <td>0.030201</td>\n      <td>0.027374</td>\n      <td>0.041854</td>\n      <td>0.000519</td>\n      <td>0.031639</td>\n      <td>0.027814</td>\n      <td>-0.015174</td>\n      <td>-0.013031</td>\n      <td>0.040336</td>\n      <td>0.003246</td>\n      <td>...</td>\n      <td>-0.046016</td>\n      <td>0.012317</td>\n      <td>0.004503</td>\n      <td>-0.048036</td>\n      <td>0.045243</td>\n      <td>0.020221</td>\n      <td>0.018960</td>\n      <td>0.008882</td>\n      <td>0.032990</td>\n      <td>0.021255</td>\n    </tr>\n  </tbody>\n</table>\n<p>578 rows × 1024 columns</p>\n</div>"
     },
     "execution_count": 35,
     "metadata": {},
     "output_type": "execute_result"
    }
   ],
   "source": [
    "T5_578_df"
   ],
   "metadata": {
    "collapsed": false
   }
  },
  {
   "cell_type": "code",
   "execution_count": 36,
   "outputs": [],
   "source": [
    "T5_578_df.to_csv(\"/home/kongge/projects/new_protT5/data/T5_578.csv\", index=False)"
   ],
   "metadata": {
    "collapsed": false
   }
  },
  {
   "cell_type": "code",
   "execution_count": 38,
   "outputs": [],
   "source": [
    "def getT5DF(h5_path):\n",
    "    T5_122, _ = readH5File(h5_path)\n",
    "    T5_envelope_122 = pd.DataFrame(T5_122)\n",
    "    return T5_envelope_122"
   ],
   "metadata": {
    "collapsed": false
   }
  },
  {
   "cell_type": "code",
   "execution_count": 40,
   "outputs": [],
   "source": [
    "\n",
    "\n",
    "T5_envelope_122 = getT5DF(\"/home/kongge/projects/new_protT5/data/TestProtT5/envelope/per_protein_embeddings.h5\")\n",
    "T5_stroma_122 = getT5DF(\"/home/kongge/projects/new_protT5/data/TestProtT5/stroma/per_protein_embeddings.h5\")\n",
    "T5_lumen_122 = getT5DF(\"/home/kongge/projects/new_protT5/data/TestProtT5/lumen/per_protein_embeddings.h5\")\n",
    "T5_membrane_122 = getT5DF(\"/home/kongge/projects/new_protT5/data/TestProtT5/membrane/membrane.h5\")"
   ],
   "metadata": {
    "collapsed": false
   }
  },
  {
   "cell_type": "code",
   "execution_count": 41,
   "outputs": [],
   "source": [
    "test_df = getTestLabelByFeatureNum(T5_envelope_122, T5_lumen_122, T5_stroma_122, T5_membrane_122,feature_num=1024)"
   ],
   "metadata": {
    "collapsed": false
   }
  },
  {
   "cell_type": "code",
   "execution_count": 42,
   "outputs": [],
   "source": [
    "test_df.to_csv(\"/home/kongge/projects/new_protT5/data/T5_test_mutil_label_122.csv\", index=False)"
   ],
   "metadata": {
    "collapsed": false
   }
  },
  {
   "cell_type": "code",
   "execution_count": 11,
   "outputs": [],
   "source": [
    "from feature_extraction.labelTools import getACCDPCT5DF\n",
    "\n",
    "AAC_DPC_T5_envelope_122 = getACCDPCT5DF(\"/home/kongge/projects/new_protT5/data/TestProtT5/envelope/per_protein_embeddings.h5\", \"/home/kongge/projects/new_protT5/data/Novel/new_envelope.fasta\")\n",
    "AAC_DPC_T5_stroma_122 = getACCDPCT5DF(\"/home/kongge/projects/new_protT5/data/TestProtT5/stroma/per_protein_embeddings.h5\", \"/home/kongge/projects/new_protT5/data/Novel/new_stroma.fasta\")\n",
    "AAC_DPC_T5_lumen_122 = getACCDPCT5DF(\"/home/kongge/projects/new_protT5/data/TestProtT5/lumen/per_protein_embeddings.h5\", \"/home/kongge/projects/new_protT5/data/Novel/new_thylakoid_lumen.fasta\")\n",
    "AAC_DPC_T5_membrane_122 = getACCDPCT5DF(\"/home/kongge/projects/new_protT5/data/TestProtT5/membrane/membrane.h5\", \"/home/kongge/projects/new_protT5/data/Novel/new_thylakoid_membrane.fasta\")"
   ],
   "metadata": {
    "collapsed": false
   }
  },
  {
   "cell_type": "code",
   "execution_count": 14,
   "outputs": [],
   "source": [
    "from labelTools import getTestLabelByFeatureNum\n",
    "test_df = getTestLabelByFeatureNum(AAC_DPC_T5_envelope_122, AAC_DPC_T5_stroma_122, AAC_DPC_T5_lumen_122, AAC_DPC_T5_membrane_122,feature_num=1444)"
   ],
   "metadata": {
    "collapsed": false
   }
  },
  {
   "cell_type": "code",
   "execution_count": 16,
   "outputs": [
    {
     "data": {
      "text/plain": "           0         1         2         3         4         5         6  \\\n13  0.038462  0.025641  0.070513  0.076923  0.044872  0.032051  0.032051   \n21  0.039548  0.016949  0.031073  0.096045  0.036723  0.076271  0.019774   \n11  0.043321  0.010830  0.028881  0.097473  0.039711  0.054152  0.018051   \n26  0.044944  0.011236  0.022472  0.063670  0.041199  0.063670  0.003745   \n38  0.045977  0.005747  0.034483  0.051724  0.040230  0.051724  0.005747   \n..       ...       ...       ...       ...       ...       ...       ...   \n9   0.129730  0.013514  0.040541  0.048649  0.043243  0.083784  0.016216   \n0   0.151351  0.016216  0.024324  0.018919  0.056757  0.075676  0.013514   \n57  0.156250  0.000000  0.109375  0.031250  0.062500  0.062500  0.000000   \n6   0.179856  0.000000  0.064748  0.093525  0.043165  0.086331  0.007194   \n0   0.184810  0.002532  0.045570  0.035443  0.010127  0.068354  0.000000   \n\n           7         8         9  ...      1438      1439      1440      1441  \\\n13  0.044872  0.051282  0.102564  ...  0.051092  0.042379 -0.059745  0.079686   \n21  0.056497  0.050847  0.084746  ...  0.045609  0.049335  0.039549  0.030308   \n11  0.043321  0.075812  0.140794  ...  0.002178  0.032011 -0.044524 -0.006332   \n26  0.067416  0.078652  0.093633  ...  0.047535  0.036396 -0.068476  0.010959   \n38  0.080460  0.074713  0.103448  ...  0.044981  0.054896 -0.006561  0.066143   \n..       ...       ...       ...  ...       ...       ...       ...       ...   \n9   0.043243  0.062162  0.097297  ...  0.006957 -0.018378 -0.053899  0.010866   \n0   0.051351  0.021622  0.143243  ...  0.013247 -0.012895 -0.059142  0.007836   \n57  0.046875  0.109375  0.062500  ...  0.004729 -0.033433 -0.038524 -0.014472   \n6   0.014388  0.143885  0.043165  ...  0.011884 -0.029615 -0.027669  0.082374   \n0   0.027848  0.081013  0.091139  ...  0.009628  0.003707 -0.049499 -0.035634   \n\n        1442      1443  envelope  lumen  stroma  thylakoid_membrane  \n13  0.078795  0.004532         0      1       0                   0  \n21  0.093880  0.024301         0      0       0                   1  \n11  0.011083 -0.013352         0      1       0                   0  \n26  0.022706  0.013825         0      0       0                   1  \n38  0.047892  0.009630         0      0       0                   1  \n..       ...       ...       ...    ...     ...                 ...  \n9   0.026401 -0.032276         0      1       0                   0  \n0  -0.026386  0.005120         1      0       0                   0  \n57  0.052804  0.062763         1      0       0                   0  \n6   0.055539  0.038170         0      1       0                   0  \n0  -0.022517  0.066240         0      0       0                   1  \n\n[131 rows x 1448 columns]",
      "text/html": "<div>\n<style scoped>\n    .dataframe tbody tr th:only-of-type {\n        vertical-align: middle;\n    }\n\n    .dataframe tbody tr th {\n        vertical-align: top;\n    }\n\n    .dataframe thead th {\n        text-align: right;\n    }\n</style>\n<table border=\"1\" class=\"dataframe\">\n  <thead>\n    <tr style=\"text-align: right;\">\n      <th></th>\n      <th>0</th>\n      <th>1</th>\n      <th>2</th>\n      <th>3</th>\n      <th>4</th>\n      <th>5</th>\n      <th>6</th>\n      <th>7</th>\n      <th>8</th>\n      <th>9</th>\n      <th>...</th>\n      <th>1438</th>\n      <th>1439</th>\n      <th>1440</th>\n      <th>1441</th>\n      <th>1442</th>\n      <th>1443</th>\n      <th>envelope</th>\n      <th>lumen</th>\n      <th>stroma</th>\n      <th>thylakoid_membrane</th>\n    </tr>\n  </thead>\n  <tbody>\n    <tr>\n      <th>13</th>\n      <td>0.038462</td>\n      <td>0.025641</td>\n      <td>0.070513</td>\n      <td>0.076923</td>\n      <td>0.044872</td>\n      <td>0.032051</td>\n      <td>0.032051</td>\n      <td>0.044872</td>\n      <td>0.051282</td>\n      <td>0.102564</td>\n      <td>...</td>\n      <td>0.051092</td>\n      <td>0.042379</td>\n      <td>-0.059745</td>\n      <td>0.079686</td>\n      <td>0.078795</td>\n      <td>0.004532</td>\n      <td>0</td>\n      <td>1</td>\n      <td>0</td>\n      <td>0</td>\n    </tr>\n    <tr>\n      <th>21</th>\n      <td>0.039548</td>\n      <td>0.016949</td>\n      <td>0.031073</td>\n      <td>0.096045</td>\n      <td>0.036723</td>\n      <td>0.076271</td>\n      <td>0.019774</td>\n      <td>0.056497</td>\n      <td>0.050847</td>\n      <td>0.084746</td>\n      <td>...</td>\n      <td>0.045609</td>\n      <td>0.049335</td>\n      <td>0.039549</td>\n      <td>0.030308</td>\n      <td>0.093880</td>\n      <td>0.024301</td>\n      <td>0</td>\n      <td>0</td>\n      <td>0</td>\n      <td>1</td>\n    </tr>\n    <tr>\n      <th>11</th>\n      <td>0.043321</td>\n      <td>0.010830</td>\n      <td>0.028881</td>\n      <td>0.097473</td>\n      <td>0.039711</td>\n      <td>0.054152</td>\n      <td>0.018051</td>\n      <td>0.043321</td>\n      <td>0.075812</td>\n      <td>0.140794</td>\n      <td>...</td>\n      <td>0.002178</td>\n      <td>0.032011</td>\n      <td>-0.044524</td>\n      <td>-0.006332</td>\n      <td>0.011083</td>\n      <td>-0.013352</td>\n      <td>0</td>\n      <td>1</td>\n      <td>0</td>\n      <td>0</td>\n    </tr>\n    <tr>\n      <th>26</th>\n      <td>0.044944</td>\n      <td>0.011236</td>\n      <td>0.022472</td>\n      <td>0.063670</td>\n      <td>0.041199</td>\n      <td>0.063670</td>\n      <td>0.003745</td>\n      <td>0.067416</td>\n      <td>0.078652</td>\n      <td>0.093633</td>\n      <td>...</td>\n      <td>0.047535</td>\n      <td>0.036396</td>\n      <td>-0.068476</td>\n      <td>0.010959</td>\n      <td>0.022706</td>\n      <td>0.013825</td>\n      <td>0</td>\n      <td>0</td>\n      <td>0</td>\n      <td>1</td>\n    </tr>\n    <tr>\n      <th>38</th>\n      <td>0.045977</td>\n      <td>0.005747</td>\n      <td>0.034483</td>\n      <td>0.051724</td>\n      <td>0.040230</td>\n      <td>0.051724</td>\n      <td>0.005747</td>\n      <td>0.080460</td>\n      <td>0.074713</td>\n      <td>0.103448</td>\n      <td>...</td>\n      <td>0.044981</td>\n      <td>0.054896</td>\n      <td>-0.006561</td>\n      <td>0.066143</td>\n      <td>0.047892</td>\n      <td>0.009630</td>\n      <td>0</td>\n      <td>0</td>\n      <td>0</td>\n      <td>1</td>\n    </tr>\n    <tr>\n      <th>...</th>\n      <td>...</td>\n      <td>...</td>\n      <td>...</td>\n      <td>...</td>\n      <td>...</td>\n      <td>...</td>\n      <td>...</td>\n      <td>...</td>\n      <td>...</td>\n      <td>...</td>\n      <td>...</td>\n      <td>...</td>\n      <td>...</td>\n      <td>...</td>\n      <td>...</td>\n      <td>...</td>\n      <td>...</td>\n      <td>...</td>\n      <td>...</td>\n      <td>...</td>\n      <td>...</td>\n    </tr>\n    <tr>\n      <th>9</th>\n      <td>0.129730</td>\n      <td>0.013514</td>\n      <td>0.040541</td>\n      <td>0.048649</td>\n      <td>0.043243</td>\n      <td>0.083784</td>\n      <td>0.016216</td>\n      <td>0.043243</td>\n      <td>0.062162</td>\n      <td>0.097297</td>\n      <td>...</td>\n      <td>0.006957</td>\n      <td>-0.018378</td>\n      <td>-0.053899</td>\n      <td>0.010866</td>\n      <td>0.026401</td>\n      <td>-0.032276</td>\n      <td>0</td>\n      <td>1</td>\n      <td>0</td>\n      <td>0</td>\n    </tr>\n    <tr>\n      <th>0</th>\n      <td>0.151351</td>\n      <td>0.016216</td>\n      <td>0.024324</td>\n      <td>0.018919</td>\n      <td>0.056757</td>\n      <td>0.075676</td>\n      <td>0.013514</td>\n      <td>0.051351</td>\n      <td>0.021622</td>\n      <td>0.143243</td>\n      <td>...</td>\n      <td>0.013247</td>\n      <td>-0.012895</td>\n      <td>-0.059142</td>\n      <td>0.007836</td>\n      <td>-0.026386</td>\n      <td>0.005120</td>\n      <td>1</td>\n      <td>0</td>\n      <td>0</td>\n      <td>0</td>\n    </tr>\n    <tr>\n      <th>57</th>\n      <td>0.156250</td>\n      <td>0.000000</td>\n      <td>0.109375</td>\n      <td>0.031250</td>\n      <td>0.062500</td>\n      <td>0.062500</td>\n      <td>0.000000</td>\n      <td>0.046875</td>\n      <td>0.109375</td>\n      <td>0.062500</td>\n      <td>...</td>\n      <td>0.004729</td>\n      <td>-0.033433</td>\n      <td>-0.038524</td>\n      <td>-0.014472</td>\n      <td>0.052804</td>\n      <td>0.062763</td>\n      <td>1</td>\n      <td>0</td>\n      <td>0</td>\n      <td>0</td>\n    </tr>\n    <tr>\n      <th>6</th>\n      <td>0.179856</td>\n      <td>0.000000</td>\n      <td>0.064748</td>\n      <td>0.093525</td>\n      <td>0.043165</td>\n      <td>0.086331</td>\n      <td>0.007194</td>\n      <td>0.014388</td>\n      <td>0.143885</td>\n      <td>0.043165</td>\n      <td>...</td>\n      <td>0.011884</td>\n      <td>-0.029615</td>\n      <td>-0.027669</td>\n      <td>0.082374</td>\n      <td>0.055539</td>\n      <td>0.038170</td>\n      <td>0</td>\n      <td>1</td>\n      <td>0</td>\n      <td>0</td>\n    </tr>\n    <tr>\n      <th>0</th>\n      <td>0.184810</td>\n      <td>0.002532</td>\n      <td>0.045570</td>\n      <td>0.035443</td>\n      <td>0.010127</td>\n      <td>0.068354</td>\n      <td>0.000000</td>\n      <td>0.027848</td>\n      <td>0.081013</td>\n      <td>0.091139</td>\n      <td>...</td>\n      <td>0.009628</td>\n      <td>0.003707</td>\n      <td>-0.049499</td>\n      <td>-0.035634</td>\n      <td>-0.022517</td>\n      <td>0.066240</td>\n      <td>0</td>\n      <td>0</td>\n      <td>0</td>\n      <td>1</td>\n    </tr>\n  </tbody>\n</table>\n<p>131 rows × 1448 columns</p>\n</div>"
     },
     "execution_count": 16,
     "metadata": {},
     "output_type": "execute_result"
    }
   ],
   "source": [
    "test_df"
   ],
   "metadata": {
    "collapsed": false
   }
  },
  {
   "cell_type": "code",
   "execution_count": 17,
   "outputs": [],
   "source": [
    "test_df.to_csv(\"/home/kongge/projects/new_protT5/data/AAC_DPC_T5_test_mutil_label_122.csv\", index=False)"
   ],
   "metadata": {
    "collapsed": false
   }
  },
  {
   "cell_type": "code",
   "execution_count": 23,
   "outputs": [],
   "source": [
    "# 仅仅提取AAC\n",
    "AAC_DF = pd.DataFrame(AAC_578)"
   ],
   "metadata": {
    "collapsed": false
   }
  },
  {
   "cell_type": "code",
   "execution_count": 24,
   "outputs": [
    {
     "data": {
      "text/plain": "           0         1         2         3         4         5         6   \\\n0    0.038674  0.005525  0.027624  0.066298  0.060773  0.077348  0.000000   \n1    0.097744  0.015038  0.067669  0.090226  0.000000  0.060150  0.007519   \n2    0.078212  0.000000  0.039106  0.100559  0.044693  0.050279  0.005587   \n3    0.058824  0.005348  0.037433  0.080214  0.048128  0.016043  0.010695   \n4    0.135870  0.000000  0.059783  0.086957  0.027174  0.038043  0.010870   \n..        ...       ...       ...       ...       ...       ...       ...   \n573  0.063158  0.010526  0.042105  0.068421  0.047368  0.031579  0.010526   \n574  0.051867  0.006224  0.056017  0.093361  0.045643  0.064315  0.004149   \n575  0.045662  0.013699  0.027397  0.027397  0.063927  0.091324  0.027397   \n576  0.095070  0.024648  0.028169  0.028169  0.077465  0.052817  0.024648   \n577  0.065341  0.009943  0.052557  0.066761  0.039773  0.076705  0.019886   \n\n           7         8         9         10        11        12        13  \\\n0    0.099448  0.044199  0.154696  0.016575  0.071823  0.038674  0.022099   \n1    0.060150  0.052632  0.150376  0.015038  0.037594  0.022556  0.015038   \n2    0.100559  0.089385  0.156425  0.011173  0.061453  0.005587  0.061453   \n3    0.101604  0.085561  0.144385  0.026738  0.053476  0.021390  0.048128   \n4    0.054348  0.048913  0.119565  0.021739  0.059783  0.027174  0.048913   \n..        ...       ...       ...       ...       ...       ...       ...   \n573  0.052632  0.047368  0.089474  0.036842  0.042105  0.047368  0.042105   \n574  0.066390  0.064315  0.132780  0.010373  0.037344  0.047718  0.033195   \n575  0.095890  0.027397  0.141553  0.009132  0.009132  0.036530  0.027397   \n576  0.066901  0.038732  0.102113  0.038732  0.035211  0.073944  0.024648   \n577  0.042614  0.071023  0.133523  0.022727  0.039773  0.063920  0.024148   \n\n           14        15        16        17        18        19  \n0    0.055249  0.060773  0.060773  0.049724  0.005525  0.044199  \n1    0.052632  0.037594  0.097744  0.105263  0.007519  0.007519  \n2    0.055866  0.027933  0.061453  0.044693  0.000000  0.005587  \n3    0.026738  0.053476  0.096257  0.064171  0.000000  0.021390  \n4    0.048913  0.054348  0.016304  0.021739  0.010870  0.108696  \n..        ...       ...       ...       ...       ...       ...  \n573  0.078947  0.073684  0.084211  0.057895  0.010526  0.063158  \n574  0.056017  0.078838  0.037344  0.066390  0.018672  0.029046  \n575  0.041096  0.082192  0.063927  0.100457  0.027397  0.041096  \n576  0.070423  0.059859  0.045775  0.045775  0.028169  0.038732  \n577  0.051136  0.061080  0.044034  0.075284  0.008523  0.031250  \n\n[578 rows x 20 columns]",
      "text/html": "<div>\n<style scoped>\n    .dataframe tbody tr th:only-of-type {\n        vertical-align: middle;\n    }\n\n    .dataframe tbody tr th {\n        vertical-align: top;\n    }\n\n    .dataframe thead th {\n        text-align: right;\n    }\n</style>\n<table border=\"1\" class=\"dataframe\">\n  <thead>\n    <tr style=\"text-align: right;\">\n      <th></th>\n      <th>0</th>\n      <th>1</th>\n      <th>2</th>\n      <th>3</th>\n      <th>4</th>\n      <th>5</th>\n      <th>6</th>\n      <th>7</th>\n      <th>8</th>\n      <th>9</th>\n      <th>10</th>\n      <th>11</th>\n      <th>12</th>\n      <th>13</th>\n      <th>14</th>\n      <th>15</th>\n      <th>16</th>\n      <th>17</th>\n      <th>18</th>\n      <th>19</th>\n    </tr>\n  </thead>\n  <tbody>\n    <tr>\n      <th>0</th>\n      <td>0.038674</td>\n      <td>0.005525</td>\n      <td>0.027624</td>\n      <td>0.066298</td>\n      <td>0.060773</td>\n      <td>0.077348</td>\n      <td>0.000000</td>\n      <td>0.099448</td>\n      <td>0.044199</td>\n      <td>0.154696</td>\n      <td>0.016575</td>\n      <td>0.071823</td>\n      <td>0.038674</td>\n      <td>0.022099</td>\n      <td>0.055249</td>\n      <td>0.060773</td>\n      <td>0.060773</td>\n      <td>0.049724</td>\n      <td>0.005525</td>\n      <td>0.044199</td>\n    </tr>\n    <tr>\n      <th>1</th>\n      <td>0.097744</td>\n      <td>0.015038</td>\n      <td>0.067669</td>\n      <td>0.090226</td>\n      <td>0.000000</td>\n      <td>0.060150</td>\n      <td>0.007519</td>\n      <td>0.060150</td>\n      <td>0.052632</td>\n      <td>0.150376</td>\n      <td>0.015038</td>\n      <td>0.037594</td>\n      <td>0.022556</td>\n      <td>0.015038</td>\n      <td>0.052632</td>\n      <td>0.037594</td>\n      <td>0.097744</td>\n      <td>0.105263</td>\n      <td>0.007519</td>\n      <td>0.007519</td>\n    </tr>\n    <tr>\n      <th>2</th>\n      <td>0.078212</td>\n      <td>0.000000</td>\n      <td>0.039106</td>\n      <td>0.100559</td>\n      <td>0.044693</td>\n      <td>0.050279</td>\n      <td>0.005587</td>\n      <td>0.100559</td>\n      <td>0.089385</td>\n      <td>0.156425</td>\n      <td>0.011173</td>\n      <td>0.061453</td>\n      <td>0.005587</td>\n      <td>0.061453</td>\n      <td>0.055866</td>\n      <td>0.027933</td>\n      <td>0.061453</td>\n      <td>0.044693</td>\n      <td>0.000000</td>\n      <td>0.005587</td>\n    </tr>\n    <tr>\n      <th>3</th>\n      <td>0.058824</td>\n      <td>0.005348</td>\n      <td>0.037433</td>\n      <td>0.080214</td>\n      <td>0.048128</td>\n      <td>0.016043</td>\n      <td>0.010695</td>\n      <td>0.101604</td>\n      <td>0.085561</td>\n      <td>0.144385</td>\n      <td>0.026738</td>\n      <td>0.053476</td>\n      <td>0.021390</td>\n      <td>0.048128</td>\n      <td>0.026738</td>\n      <td>0.053476</td>\n      <td>0.096257</td>\n      <td>0.064171</td>\n      <td>0.000000</td>\n      <td>0.021390</td>\n    </tr>\n    <tr>\n      <th>4</th>\n      <td>0.135870</td>\n      <td>0.000000</td>\n      <td>0.059783</td>\n      <td>0.086957</td>\n      <td>0.027174</td>\n      <td>0.038043</td>\n      <td>0.010870</td>\n      <td>0.054348</td>\n      <td>0.048913</td>\n      <td>0.119565</td>\n      <td>0.021739</td>\n      <td>0.059783</td>\n      <td>0.027174</td>\n      <td>0.048913</td>\n      <td>0.048913</td>\n      <td>0.054348</td>\n      <td>0.016304</td>\n      <td>0.021739</td>\n      <td>0.010870</td>\n      <td>0.108696</td>\n    </tr>\n    <tr>\n      <th>...</th>\n      <td>...</td>\n      <td>...</td>\n      <td>...</td>\n      <td>...</td>\n      <td>...</td>\n      <td>...</td>\n      <td>...</td>\n      <td>...</td>\n      <td>...</td>\n      <td>...</td>\n      <td>...</td>\n      <td>...</td>\n      <td>...</td>\n      <td>...</td>\n      <td>...</td>\n      <td>...</td>\n      <td>...</td>\n      <td>...</td>\n      <td>...</td>\n      <td>...</td>\n    </tr>\n    <tr>\n      <th>573</th>\n      <td>0.063158</td>\n      <td>0.010526</td>\n      <td>0.042105</td>\n      <td>0.068421</td>\n      <td>0.047368</td>\n      <td>0.031579</td>\n      <td>0.010526</td>\n      <td>0.052632</td>\n      <td>0.047368</td>\n      <td>0.089474</td>\n      <td>0.036842</td>\n      <td>0.042105</td>\n      <td>0.047368</td>\n      <td>0.042105</td>\n      <td>0.078947</td>\n      <td>0.073684</td>\n      <td>0.084211</td>\n      <td>0.057895</td>\n      <td>0.010526</td>\n      <td>0.063158</td>\n    </tr>\n    <tr>\n      <th>574</th>\n      <td>0.051867</td>\n      <td>0.006224</td>\n      <td>0.056017</td>\n      <td>0.093361</td>\n      <td>0.045643</td>\n      <td>0.064315</td>\n      <td>0.004149</td>\n      <td>0.066390</td>\n      <td>0.064315</td>\n      <td>0.132780</td>\n      <td>0.010373</td>\n      <td>0.037344</td>\n      <td>0.047718</td>\n      <td>0.033195</td>\n      <td>0.056017</td>\n      <td>0.078838</td>\n      <td>0.037344</td>\n      <td>0.066390</td>\n      <td>0.018672</td>\n      <td>0.029046</td>\n    </tr>\n    <tr>\n      <th>575</th>\n      <td>0.045662</td>\n      <td>0.013699</td>\n      <td>0.027397</td>\n      <td>0.027397</td>\n      <td>0.063927</td>\n      <td>0.091324</td>\n      <td>0.027397</td>\n      <td>0.095890</td>\n      <td>0.027397</td>\n      <td>0.141553</td>\n      <td>0.009132</td>\n      <td>0.009132</td>\n      <td>0.036530</td>\n      <td>0.027397</td>\n      <td>0.041096</td>\n      <td>0.082192</td>\n      <td>0.063927</td>\n      <td>0.100457</td>\n      <td>0.027397</td>\n      <td>0.041096</td>\n    </tr>\n    <tr>\n      <th>576</th>\n      <td>0.095070</td>\n      <td>0.024648</td>\n      <td>0.028169</td>\n      <td>0.028169</td>\n      <td>0.077465</td>\n      <td>0.052817</td>\n      <td>0.024648</td>\n      <td>0.066901</td>\n      <td>0.038732</td>\n      <td>0.102113</td>\n      <td>0.038732</td>\n      <td>0.035211</td>\n      <td>0.073944</td>\n      <td>0.024648</td>\n      <td>0.070423</td>\n      <td>0.059859</td>\n      <td>0.045775</td>\n      <td>0.045775</td>\n      <td>0.028169</td>\n      <td>0.038732</td>\n    </tr>\n    <tr>\n      <th>577</th>\n      <td>0.065341</td>\n      <td>0.009943</td>\n      <td>0.052557</td>\n      <td>0.066761</td>\n      <td>0.039773</td>\n      <td>0.076705</td>\n      <td>0.019886</td>\n      <td>0.042614</td>\n      <td>0.071023</td>\n      <td>0.133523</td>\n      <td>0.022727</td>\n      <td>0.039773</td>\n      <td>0.063920</td>\n      <td>0.024148</td>\n      <td>0.051136</td>\n      <td>0.061080</td>\n      <td>0.044034</td>\n      <td>0.075284</td>\n      <td>0.008523</td>\n      <td>0.031250</td>\n    </tr>\n  </tbody>\n</table>\n<p>578 rows × 20 columns</p>\n</div>"
     },
     "execution_count": 24,
     "metadata": {},
     "output_type": "execute_result"
    }
   ],
   "source": [
    "AAC_DF"
   ],
   "metadata": {
    "collapsed": false
   }
  },
  {
   "cell_type": "code",
   "execution_count": 25,
   "outputs": [],
   "source": [
    "AAC_DF.to_csv(\"/home/kongge/projects/new_protT5/data/AAC_578.csv\", index=False)"
   ],
   "metadata": {
    "collapsed": false
   }
  },
  {
   "cell_type": "code",
   "execution_count": 30,
   "outputs": [],
   "source": [
    "from feature_extraction.labelTools import getAACDF\n",
    "\n",
    "AAC_envelope_122 = getAACDF(\"/home/kongge/projects/new_protT5/data/TestProtT5/envelope/per_protein_embeddings.h5\", \"/home/kongge/projects/new_protT5/data/Novel/new_envelope.fasta\")\n",
    "AAC_stroma_122 = getAACDF(\"/home/kongge/projects/new_protT5/data/TestProtT5/stroma/per_protein_embeddings.h5\", \"/home/kongge/projects/new_protT5/data/Novel/new_stroma.fasta\")\n",
    "AAC_lumen_122 = getAACDF(\"/home/kongge/projects/new_protT5/data/TestProtT5/lumen/per_protein_embeddings.h5\", \"/home/kongge/projects/new_protT5/data/Novel/new_thylakoid_lumen.fasta\")\n",
    "AAC_membrane_122 = getAACDF(\"/home/kongge/projects/new_protT5/data/TestProtT5/membrane/membrane.h5\", \"/home/kongge/projects/new_protT5/data/Novel/new_thylakoid_membrane.fasta\")"
   ],
   "metadata": {
    "collapsed": false
   }
  },
  {
   "cell_type": "code",
   "execution_count": 31,
   "outputs": [],
   "source": [
    "from labelTools import getTestLabelByFeatureNum\n",
    "test_df = getTestLabelByFeatureNum(AAC_envelope_122, AAC_stroma_122, AAC_lumen_122, AAC_membrane_122,feature_num=20)"
   ],
   "metadata": {
    "collapsed": false
   }
  },
  {
   "cell_type": "code",
   "execution_count": 32,
   "outputs": [
    {
     "data": {
      "text/plain": "           0         1         2         3         4         5         6  \\\n13  0.038462  0.025641  0.070513  0.076923  0.044872  0.032051  0.032051   \n21  0.039548  0.016949  0.031073  0.096045  0.036723  0.076271  0.019774   \n11  0.043321  0.010830  0.028881  0.097473  0.039711  0.054152  0.018051   \n26  0.044944  0.011236  0.022472  0.063670  0.041199  0.063670  0.003745   \n38  0.045977  0.005747  0.034483  0.051724  0.040230  0.051724  0.005747   \n..       ...       ...       ...       ...       ...       ...       ...   \n9   0.129730  0.013514  0.040541  0.048649  0.043243  0.083784  0.016216   \n0   0.151351  0.016216  0.024324  0.018919  0.056757  0.075676  0.013514   \n57  0.156250  0.000000  0.109375  0.031250  0.062500  0.062500  0.000000   \n6   0.179856  0.000000  0.064748  0.093525  0.043165  0.086331  0.007194   \n0   0.184810  0.002532  0.045570  0.035443  0.010127  0.068354  0.000000   \n\n           7         8         9  ...        14        15        16        17  \\\n13  0.044872  0.051282  0.102564  ...  0.070513  0.108974  0.032051  0.096154   \n21  0.056497  0.050847  0.084746  ...  0.064972  0.141243  0.045198  0.076271   \n11  0.043321  0.075812  0.140794  ...  0.050542  0.104693  0.046931  0.061372   \n26  0.067416  0.078652  0.093633  ...  0.059925  0.093633  0.059925  0.108614   \n38  0.080460  0.074713  0.103448  ...  0.051724  0.137931  0.051724  0.040230   \n..       ...       ...       ...  ...       ...       ...       ...       ...   \n9   0.043243  0.062162  0.097297  ...  0.035135  0.091892  0.040541  0.105405   \n0   0.051351  0.021622  0.143243  ...  0.045946  0.059459  0.059459  0.070270   \n57  0.046875  0.109375  0.062500  ...  0.015625  0.078125  0.109375  0.046875   \n6   0.014388  0.143885  0.043165  ...  0.014388  0.079137  0.057554  0.071942   \n0   0.027848  0.081013  0.091139  ...  0.035443  0.098734  0.063291  0.108861   \n\n          18        19  envelope  lumen  stroma  thylakoid_membrane  \n13  0.019231  0.019231         0      1       0                   0  \n21  0.011299  0.031073         0      0       0                   1  \n11  0.018051  0.018051         0      1       0                   0  \n26  0.026217  0.022472         0      0       0                   1  \n38  0.011494  0.011494         0      0       0                   1  \n..       ...       ...       ...    ...     ...                 ...  \n9   0.005405  0.008108         0      1       0                   0  \n0   0.016216  0.032432         1      0       0                   0  \n57  0.015625  0.000000         1      0       0                   0  \n6   0.000000  0.021583         0      1       0                   0  \n0   0.010127  0.017722         0      0       0                   1  \n\n[131 rows x 24 columns]",
      "text/html": "<div>\n<style scoped>\n    .dataframe tbody tr th:only-of-type {\n        vertical-align: middle;\n    }\n\n    .dataframe tbody tr th {\n        vertical-align: top;\n    }\n\n    .dataframe thead th {\n        text-align: right;\n    }\n</style>\n<table border=\"1\" class=\"dataframe\">\n  <thead>\n    <tr style=\"text-align: right;\">\n      <th></th>\n      <th>0</th>\n      <th>1</th>\n      <th>2</th>\n      <th>3</th>\n      <th>4</th>\n      <th>5</th>\n      <th>6</th>\n      <th>7</th>\n      <th>8</th>\n      <th>9</th>\n      <th>...</th>\n      <th>14</th>\n      <th>15</th>\n      <th>16</th>\n      <th>17</th>\n      <th>18</th>\n      <th>19</th>\n      <th>envelope</th>\n      <th>lumen</th>\n      <th>stroma</th>\n      <th>thylakoid_membrane</th>\n    </tr>\n  </thead>\n  <tbody>\n    <tr>\n      <th>13</th>\n      <td>0.038462</td>\n      <td>0.025641</td>\n      <td>0.070513</td>\n      <td>0.076923</td>\n      <td>0.044872</td>\n      <td>0.032051</td>\n      <td>0.032051</td>\n      <td>0.044872</td>\n      <td>0.051282</td>\n      <td>0.102564</td>\n      <td>...</td>\n      <td>0.070513</td>\n      <td>0.108974</td>\n      <td>0.032051</td>\n      <td>0.096154</td>\n      <td>0.019231</td>\n      <td>0.019231</td>\n      <td>0</td>\n      <td>1</td>\n      <td>0</td>\n      <td>0</td>\n    </tr>\n    <tr>\n      <th>21</th>\n      <td>0.039548</td>\n      <td>0.016949</td>\n      <td>0.031073</td>\n      <td>0.096045</td>\n      <td>0.036723</td>\n      <td>0.076271</td>\n      <td>0.019774</td>\n      <td>0.056497</td>\n      <td>0.050847</td>\n      <td>0.084746</td>\n      <td>...</td>\n      <td>0.064972</td>\n      <td>0.141243</td>\n      <td>0.045198</td>\n      <td>0.076271</td>\n      <td>0.011299</td>\n      <td>0.031073</td>\n      <td>0</td>\n      <td>0</td>\n      <td>0</td>\n      <td>1</td>\n    </tr>\n    <tr>\n      <th>11</th>\n      <td>0.043321</td>\n      <td>0.010830</td>\n      <td>0.028881</td>\n      <td>0.097473</td>\n      <td>0.039711</td>\n      <td>0.054152</td>\n      <td>0.018051</td>\n      <td>0.043321</td>\n      <td>0.075812</td>\n      <td>0.140794</td>\n      <td>...</td>\n      <td>0.050542</td>\n      <td>0.104693</td>\n      <td>0.046931</td>\n      <td>0.061372</td>\n      <td>0.018051</td>\n      <td>0.018051</td>\n      <td>0</td>\n      <td>1</td>\n      <td>0</td>\n      <td>0</td>\n    </tr>\n    <tr>\n      <th>26</th>\n      <td>0.044944</td>\n      <td>0.011236</td>\n      <td>0.022472</td>\n      <td>0.063670</td>\n      <td>0.041199</td>\n      <td>0.063670</td>\n      <td>0.003745</td>\n      <td>0.067416</td>\n      <td>0.078652</td>\n      <td>0.093633</td>\n      <td>...</td>\n      <td>0.059925</td>\n      <td>0.093633</td>\n      <td>0.059925</td>\n      <td>0.108614</td>\n      <td>0.026217</td>\n      <td>0.022472</td>\n      <td>0</td>\n      <td>0</td>\n      <td>0</td>\n      <td>1</td>\n    </tr>\n    <tr>\n      <th>38</th>\n      <td>0.045977</td>\n      <td>0.005747</td>\n      <td>0.034483</td>\n      <td>0.051724</td>\n      <td>0.040230</td>\n      <td>0.051724</td>\n      <td>0.005747</td>\n      <td>0.080460</td>\n      <td>0.074713</td>\n      <td>0.103448</td>\n      <td>...</td>\n      <td>0.051724</td>\n      <td>0.137931</td>\n      <td>0.051724</td>\n      <td>0.040230</td>\n      <td>0.011494</td>\n      <td>0.011494</td>\n      <td>0</td>\n      <td>0</td>\n      <td>0</td>\n      <td>1</td>\n    </tr>\n    <tr>\n      <th>...</th>\n      <td>...</td>\n      <td>...</td>\n      <td>...</td>\n      <td>...</td>\n      <td>...</td>\n      <td>...</td>\n      <td>...</td>\n      <td>...</td>\n      <td>...</td>\n      <td>...</td>\n      <td>...</td>\n      <td>...</td>\n      <td>...</td>\n      <td>...</td>\n      <td>...</td>\n      <td>...</td>\n      <td>...</td>\n      <td>...</td>\n      <td>...</td>\n      <td>...</td>\n      <td>...</td>\n    </tr>\n    <tr>\n      <th>9</th>\n      <td>0.129730</td>\n      <td>0.013514</td>\n      <td>0.040541</td>\n      <td>0.048649</td>\n      <td>0.043243</td>\n      <td>0.083784</td>\n      <td>0.016216</td>\n      <td>0.043243</td>\n      <td>0.062162</td>\n      <td>0.097297</td>\n      <td>...</td>\n      <td>0.035135</td>\n      <td>0.091892</td>\n      <td>0.040541</td>\n      <td>0.105405</td>\n      <td>0.005405</td>\n      <td>0.008108</td>\n      <td>0</td>\n      <td>1</td>\n      <td>0</td>\n      <td>0</td>\n    </tr>\n    <tr>\n      <th>0</th>\n      <td>0.151351</td>\n      <td>0.016216</td>\n      <td>0.024324</td>\n      <td>0.018919</td>\n      <td>0.056757</td>\n      <td>0.075676</td>\n      <td>0.013514</td>\n      <td>0.051351</td>\n      <td>0.021622</td>\n      <td>0.143243</td>\n      <td>...</td>\n      <td>0.045946</td>\n      <td>0.059459</td>\n      <td>0.059459</td>\n      <td>0.070270</td>\n      <td>0.016216</td>\n      <td>0.032432</td>\n      <td>1</td>\n      <td>0</td>\n      <td>0</td>\n      <td>0</td>\n    </tr>\n    <tr>\n      <th>57</th>\n      <td>0.156250</td>\n      <td>0.000000</td>\n      <td>0.109375</td>\n      <td>0.031250</td>\n      <td>0.062500</td>\n      <td>0.062500</td>\n      <td>0.000000</td>\n      <td>0.046875</td>\n      <td>0.109375</td>\n      <td>0.062500</td>\n      <td>...</td>\n      <td>0.015625</td>\n      <td>0.078125</td>\n      <td>0.109375</td>\n      <td>0.046875</td>\n      <td>0.015625</td>\n      <td>0.000000</td>\n      <td>1</td>\n      <td>0</td>\n      <td>0</td>\n      <td>0</td>\n    </tr>\n    <tr>\n      <th>6</th>\n      <td>0.179856</td>\n      <td>0.000000</td>\n      <td>0.064748</td>\n      <td>0.093525</td>\n      <td>0.043165</td>\n      <td>0.086331</td>\n      <td>0.007194</td>\n      <td>0.014388</td>\n      <td>0.143885</td>\n      <td>0.043165</td>\n      <td>...</td>\n      <td>0.014388</td>\n      <td>0.079137</td>\n      <td>0.057554</td>\n      <td>0.071942</td>\n      <td>0.000000</td>\n      <td>0.021583</td>\n      <td>0</td>\n      <td>1</td>\n      <td>0</td>\n      <td>0</td>\n    </tr>\n    <tr>\n      <th>0</th>\n      <td>0.184810</td>\n      <td>0.002532</td>\n      <td>0.045570</td>\n      <td>0.035443</td>\n      <td>0.010127</td>\n      <td>0.068354</td>\n      <td>0.000000</td>\n      <td>0.027848</td>\n      <td>0.081013</td>\n      <td>0.091139</td>\n      <td>...</td>\n      <td>0.035443</td>\n      <td>0.098734</td>\n      <td>0.063291</td>\n      <td>0.108861</td>\n      <td>0.010127</td>\n      <td>0.017722</td>\n      <td>0</td>\n      <td>0</td>\n      <td>0</td>\n      <td>1</td>\n    </tr>\n  </tbody>\n</table>\n<p>131 rows × 24 columns</p>\n</div>"
     },
     "execution_count": 32,
     "metadata": {},
     "output_type": "execute_result"
    }
   ],
   "source": [
    "test_df"
   ],
   "metadata": {
    "collapsed": false
   }
  },
  {
   "cell_type": "code",
   "execution_count": 33,
   "outputs": [],
   "source": [
    "test_df.to_csv(\"/home/kongge/projects/new_protT5/data/AAC_test_mutil_label_122.csv\", index=False)"
   ],
   "metadata": {
    "collapsed": false
   }
  },
  {
   "cell_type": "code",
   "execution_count": null,
   "outputs": [],
   "source": [
    "# 仅仅提取DPC"
   ],
   "metadata": {
    "collapsed": false
   }
  },
  {
   "cell_type": "code",
   "execution_count": 6,
   "outputs": [
    {
     "data": {
      "text/plain": "array([[0.        , 0.        , 0.        , ..., 0.        , 0.        ,\n        0.        ],\n       [0.        , 0.00757576, 0.        , ..., 0.00757576, 0.00757576,\n        0.00757576],\n       [0.        , 0.        , 0.        , ..., 0.        , 0.        ,\n        0.        ],\n       ...,\n       [0.        , 0.00458716, 0.00458716, ..., 0.        , 0.00458716,\n        0.00458716],\n       [0.00353357, 0.00353357, 0.01766784, ..., 0.00353357, 0.00353357,\n        0.00353357],\n       [0.00426743, 0.0056899 , 0.        , ..., 0.0056899 , 0.0056899 ,\n        0.        ]])"
     },
     "execution_count": 6,
     "metadata": {},
     "output_type": "execute_result"
    }
   ],
   "source": [
    "DPC_578"
   ],
   "metadata": {
    "collapsed": false
   }
  },
  {
   "cell_type": "code",
   "execution_count": 8,
   "outputs": [],
   "source": [
    "DPC_578_DF = pd.DataFrame(T5_578)"
   ],
   "metadata": {
    "collapsed": false
   }
  },
  {
   "cell_type": "code",
   "execution_count": 9,
   "outputs": [],
   "source": [
    "DPC_578_DF.to_csv(\"/home/kongge/projects/new_protT5/data/DPC_578.csv\", index=False)"
   ],
   "metadata": {
    "collapsed": false
   }
  },
  {
   "cell_type": "code",
   "execution_count": null,
   "outputs": [],
   "source": [
    "# DPC 测试集有问题 检查 T5 是否也有问题， 大错误"
   ],
   "metadata": {
    "collapsed": false
   }
  },
  {
   "cell_type": "code",
   "execution_count": 11,
   "outputs": [
    {
     "data": {
      "text/plain": "578"
     },
     "execution_count": 11,
     "metadata": {},
     "output_type": "execute_result"
    }
   ],
   "source": [
    "len(seq_sorted_by_label578)"
   ],
   "metadata": {
    "collapsed": false
   }
  },
  {
   "cell_type": "code",
   "execution_count": null,
   "outputs": [],
   "source": [],
   "metadata": {
    "collapsed": false
   }
  }
 ],
 "metadata": {
  "kernelspec": {
   "display_name": "Python 3",
   "language": "python",
   "name": "python3"
  },
  "language_info": {
   "codemirror_mode": {
    "name": "ipython",
    "version": 2
   },
   "file_extension": ".py",
   "mimetype": "text/x-python",
   "name": "python",
   "nbconvert_exporter": "python",
   "pygments_lexer": "ipython2",
   "version": "2.7.6"
  }
 },
 "nbformat": 4,
 "nbformat_minor": 0
}
